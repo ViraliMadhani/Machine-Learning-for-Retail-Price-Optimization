{
 "cells": [
  {
   "cell_type": "code",
   "execution_count": 120,
   "id": "71f2482b",
   "metadata": {},
   "outputs": [
    {
     "name": "stdout",
     "output_type": "stream",
     "text": [
      "Collecting eli5\n",
      "  Using cached eli5-0.13.0.tar.gz (216 kB)\n",
      "Requirement already satisfied: attrs>17.1.0 in c:\\users\\dell\\anaconda3\\lib\\site-packages (from eli5) (21.4.0)\n",
      "Collecting jinja2>=3.0.0\n",
      "  Using cached Jinja2-3.1.2-py3-none-any.whl (133 kB)\n",
      "Requirement already satisfied: numpy>=1.9.0 in c:\\users\\dell\\anaconda3\\lib\\site-packages (from eli5) (1.21.5)\n",
      "Requirement already satisfied: scipy in c:\\users\\dell\\anaconda3\\lib\\site-packages (from eli5) (1.7.3)\n",
      "Requirement already satisfied: six in c:\\users\\dell\\anaconda3\\lib\\site-packages (from eli5) (1.16.0)\n",
      "Requirement already satisfied: scikit-learn>=0.20 in c:\\users\\dell\\anaconda3\\lib\\site-packages (from eli5) (1.0.2)\n",
      "Collecting graphviz\n",
      "  Using cached graphviz-0.20.1-py3-none-any.whl (47 kB)\n",
      "Requirement already satisfied: tabulate>=0.7.7 in c:\\users\\dell\\anaconda3\\lib\\site-packages (from eli5) (0.8.9)\n",
      "Requirement already satisfied: MarkupSafe>=2.0 in c:\\users\\dell\\anaconda3\\lib\\site-packages (from jinja2>=3.0.0->eli5) (2.0.1)\n",
      "Requirement already satisfied: threadpoolctl>=2.0.0 in c:\\users\\dell\\anaconda3\\lib\\site-packages (from scikit-learn>=0.20->eli5) (2.2.0)\n",
      "Requirement already satisfied: joblib>=0.11 in c:\\users\\dell\\anaconda3\\lib\\site-packages (from scikit-learn>=0.20->eli5) (1.1.0)\n",
      "Building wheels for collected packages: eli5\n",
      "  Building wheel for eli5 (setup.py): started\n",
      "  Building wheel for eli5 (setup.py): finished with status 'done'\n",
      "  Created wheel for eli5: filename=eli5-0.13.0-py2.py3-none-any.whl size=107748 sha256=25efc6c1d436df61cc386bc30b3893aa43153e1ac79e0cbaebe656ec36a5f1cf\n",
      "  Stored in directory: c:\\users\\dell\\appdata\\local\\pip\\cache\\wheels\\7b\\26\\a5\\8460416695a992a2966b41caa5338e5e7fcea98c9d032d055c\n",
      "Successfully built eli5"
     ]
    },
    {
     "name": "stderr",
     "output_type": "stream",
     "text": [
      "ERROR: pip's dependency resolver does not currently take into account all the packages that are installed. This behaviour is the source of the following dependency conflicts.\n",
      "anaconda-project 0.10.2 requires ruamel-yaml, which is not installed.\n",
      "jupyter-server 1.13.5 requires pywinpty<2; os_name == \"nt\", but you have pywinpty 2.0.2 which is incompatible.\n"
     ]
    },
    {
     "name": "stdout",
     "output_type": "stream",
     "text": [
      "\n",
      "Installing collected packages: jinja2, graphviz, eli5\n",
      "  Attempting uninstall: jinja2\n",
      "    Found existing installation: Jinja2 2.11.3\n",
      "    Uninstalling Jinja2-2.11.3:\n",
      "      Successfully uninstalled Jinja2-2.11.3\n",
      "Successfully installed eli5-0.13.0 graphviz-0.20.1 jinja2-3.1.2\n",
      "Requirement already satisfied: shap in c:\\users\\dell\\anaconda3\\lib\\site-packages (0.42.1)\n",
      "Requirement already satisfied: tqdm>=4.27.0 in c:\\users\\dell\\anaconda3\\lib\\site-packages (from shap) (4.64.0)\n",
      "Requirement already satisfied: packaging>20.9 in c:\\users\\dell\\anaconda3\\lib\\site-packages (from shap) (21.3)\n",
      "Requirement already satisfied: pandas in c:\\users\\dell\\anaconda3\\lib\\site-packages (from shap) (1.4.2)\n",
      "Requirement already satisfied: scipy in c:\\users\\dell\\anaconda3\\lib\\site-packages (from shap) (1.7.3)\n",
      "Requirement already satisfied: numpy in c:\\users\\dell\\anaconda3\\lib\\site-packages (from shap) (1.21.5)\n",
      "Requirement already satisfied: cloudpickle in c:\\users\\dell\\anaconda3\\lib\\site-packages (from shap) (2.0.0)\n",
      "Requirement already satisfied: scikit-learn in c:\\users\\dell\\anaconda3\\lib\\site-packages (from shap) (1.0.2)\n",
      "Requirement already satisfied: numba in c:\\users\\dell\\anaconda3\\lib\\site-packages (from shap) (0.55.1)\n",
      "Requirement already satisfied: slicer==0.0.7 in c:\\users\\dell\\anaconda3\\lib\\site-packages (from shap) (0.0.7)\n",
      "Requirement already satisfied: pyparsing!=3.0.5,>=2.0.2 in c:\\users\\dell\\anaconda3\\lib\\site-packages (from packaging>20.9->shap) (3.0.4)\n",
      "Requirement already satisfied: colorama in c:\\users\\dell\\anaconda3\\lib\\site-packages (from tqdm>=4.27.0->shap) (0.4.4)\n",
      "Requirement already satisfied: setuptools in c:\\users\\dell\\anaconda3\\lib\\site-packages (from numba->shap) (61.2.0)\n",
      "Requirement already satisfied: llvmlite<0.39,>=0.38.0rc1 in c:\\users\\dell\\anaconda3\\lib\\site-packages (from numba->shap) (0.38.0)\n",
      "Requirement already satisfied: pytz>=2020.1 in c:\\users\\dell\\anaconda3\\lib\\site-packages (from pandas->shap) (2021.3)\n",
      "Requirement already satisfied: python-dateutil>=2.8.1 in c:\\users\\dell\\anaconda3\\lib\\site-packages (from pandas->shap) (2.8.2)\n",
      "Requirement already satisfied: six>=1.5 in c:\\users\\dell\\anaconda3\\lib\\site-packages (from python-dateutil>=2.8.1->pandas->shap) (1.16.0)\n",
      "Requirement already satisfied: joblib>=0.11 in c:\\users\\dell\\anaconda3\\lib\\site-packages (from scikit-learn->shap) (1.1.0)\n",
      "Requirement already satisfied: threadpoolctl>=2.0.0 in c:\\users\\dell\\anaconda3\\lib\\site-packages (from scikit-learn->shap) (2.2.0)\n"
     ]
    }
   ],
   "source": [
    "!pip install eli5\n",
    "!pip install shap"
   ]
  },
  {
   "cell_type": "code",
   "execution_count": 4,
   "id": "99d880d5",
   "metadata": {},
   "outputs": [],
   "source": [
    "# Import necessary libraries\n",
    "import pandas as pd\n",
    "import numpy as np\n",
    "import matplotlib.pyplot as plt\n",
    "import seaborn as sns\n",
    "import warnings\n",
    "import plotly.express as px\n",
    "import plotly.graph_objects as go\n",
    "import plotly.io as pio\n",
    "from sklearn.model_selection import train_test_split\n",
    "from sklearn.metrics import mean_absolute_error, r2_score\n",
    "from sklearn.linear_model import Ridge\n",
    "from sklearn.ensemble import RandomForestRegressor\n",
    "from sklearn.svm import SVR\n",
    "from sklearn.neighbors import KNeighborsRegressor\n",
    "from xgboost import XGBRegressor\n",
    "\n",
    "# Set plotly template\n",
    "pio.templates.default = \"plotly_white\"\n",
    "warnings.filterwarnings('ignore')\n",
    "\n"
   ]
  },
  {
   "cell_type": "code",
   "execution_count": 5,
   "id": "9a66d170",
   "metadata": {},
   "outputs": [],
   "source": [
    "df=pd.read_csv('retail_price.csv')"
   ]
  },
  {
   "cell_type": "code",
   "execution_count": 6,
   "id": "f2e1caf2",
   "metadata": {},
   "outputs": [
    {
     "data": {
      "text/html": [
       "<div>\n",
       "<style scoped>\n",
       "    .dataframe tbody tr th:only-of-type {\n",
       "        vertical-align: middle;\n",
       "    }\n",
       "\n",
       "    .dataframe tbody tr th {\n",
       "        vertical-align: top;\n",
       "    }\n",
       "\n",
       "    .dataframe thead th {\n",
       "        text-align: right;\n",
       "    }\n",
       "</style>\n",
       "<table border=\"1\" class=\"dataframe\">\n",
       "  <thead>\n",
       "    <tr style=\"text-align: right;\">\n",
       "      <th></th>\n",
       "      <th>product_id</th>\n",
       "      <th>product_category_name</th>\n",
       "      <th>month_year</th>\n",
       "      <th>qty</th>\n",
       "      <th>total_price</th>\n",
       "      <th>freight_price</th>\n",
       "      <th>unit_price</th>\n",
       "      <th>product_name_lenght</th>\n",
       "      <th>product_description_lenght</th>\n",
       "      <th>product_photos_qty</th>\n",
       "      <th>...</th>\n",
       "      <th>comp_1</th>\n",
       "      <th>ps1</th>\n",
       "      <th>fp1</th>\n",
       "      <th>comp_2</th>\n",
       "      <th>ps2</th>\n",
       "      <th>fp2</th>\n",
       "      <th>comp_3</th>\n",
       "      <th>ps3</th>\n",
       "      <th>fp3</th>\n",
       "      <th>lag_price</th>\n",
       "    </tr>\n",
       "  </thead>\n",
       "  <tbody>\n",
       "    <tr>\n",
       "      <th>0</th>\n",
       "      <td>bed1</td>\n",
       "      <td>bed_bath_table</td>\n",
       "      <td>01-05-2017</td>\n",
       "      <td>1</td>\n",
       "      <td>45.95</td>\n",
       "      <td>15.100000</td>\n",
       "      <td>45.95</td>\n",
       "      <td>39</td>\n",
       "      <td>161</td>\n",
       "      <td>2</td>\n",
       "      <td>...</td>\n",
       "      <td>89.9</td>\n",
       "      <td>3.9</td>\n",
       "      <td>15.011897</td>\n",
       "      <td>215.000000</td>\n",
       "      <td>4.4</td>\n",
       "      <td>8.760000</td>\n",
       "      <td>45.95</td>\n",
       "      <td>4.0</td>\n",
       "      <td>15.100000</td>\n",
       "      <td>45.90</td>\n",
       "    </tr>\n",
       "    <tr>\n",
       "      <th>1</th>\n",
       "      <td>bed1</td>\n",
       "      <td>bed_bath_table</td>\n",
       "      <td>01-06-2017</td>\n",
       "      <td>3</td>\n",
       "      <td>137.85</td>\n",
       "      <td>12.933333</td>\n",
       "      <td>45.95</td>\n",
       "      <td>39</td>\n",
       "      <td>161</td>\n",
       "      <td>2</td>\n",
       "      <td>...</td>\n",
       "      <td>89.9</td>\n",
       "      <td>3.9</td>\n",
       "      <td>14.769216</td>\n",
       "      <td>209.000000</td>\n",
       "      <td>4.4</td>\n",
       "      <td>21.322000</td>\n",
       "      <td>45.95</td>\n",
       "      <td>4.0</td>\n",
       "      <td>12.933333</td>\n",
       "      <td>45.95</td>\n",
       "    </tr>\n",
       "    <tr>\n",
       "      <th>2</th>\n",
       "      <td>bed1</td>\n",
       "      <td>bed_bath_table</td>\n",
       "      <td>01-07-2017</td>\n",
       "      <td>6</td>\n",
       "      <td>275.70</td>\n",
       "      <td>14.840000</td>\n",
       "      <td>45.95</td>\n",
       "      <td>39</td>\n",
       "      <td>161</td>\n",
       "      <td>2</td>\n",
       "      <td>...</td>\n",
       "      <td>89.9</td>\n",
       "      <td>3.9</td>\n",
       "      <td>13.993833</td>\n",
       "      <td>205.000000</td>\n",
       "      <td>4.4</td>\n",
       "      <td>22.195932</td>\n",
       "      <td>45.95</td>\n",
       "      <td>4.0</td>\n",
       "      <td>14.840000</td>\n",
       "      <td>45.95</td>\n",
       "    </tr>\n",
       "    <tr>\n",
       "      <th>3</th>\n",
       "      <td>bed1</td>\n",
       "      <td>bed_bath_table</td>\n",
       "      <td>01-08-2017</td>\n",
       "      <td>4</td>\n",
       "      <td>183.80</td>\n",
       "      <td>14.287500</td>\n",
       "      <td>45.95</td>\n",
       "      <td>39</td>\n",
       "      <td>161</td>\n",
       "      <td>2</td>\n",
       "      <td>...</td>\n",
       "      <td>89.9</td>\n",
       "      <td>3.9</td>\n",
       "      <td>14.656757</td>\n",
       "      <td>199.509804</td>\n",
       "      <td>4.4</td>\n",
       "      <td>19.412885</td>\n",
       "      <td>45.95</td>\n",
       "      <td>4.0</td>\n",
       "      <td>14.287500</td>\n",
       "      <td>45.95</td>\n",
       "    </tr>\n",
       "    <tr>\n",
       "      <th>4</th>\n",
       "      <td>bed1</td>\n",
       "      <td>bed_bath_table</td>\n",
       "      <td>01-09-2017</td>\n",
       "      <td>2</td>\n",
       "      <td>91.90</td>\n",
       "      <td>15.100000</td>\n",
       "      <td>45.95</td>\n",
       "      <td>39</td>\n",
       "      <td>161</td>\n",
       "      <td>2</td>\n",
       "      <td>...</td>\n",
       "      <td>89.9</td>\n",
       "      <td>3.9</td>\n",
       "      <td>18.776522</td>\n",
       "      <td>163.398710</td>\n",
       "      <td>4.4</td>\n",
       "      <td>24.324687</td>\n",
       "      <td>45.95</td>\n",
       "      <td>4.0</td>\n",
       "      <td>15.100000</td>\n",
       "      <td>45.95</td>\n",
       "    </tr>\n",
       "  </tbody>\n",
       "</table>\n",
       "<p>5 rows × 30 columns</p>\n",
       "</div>"
      ],
      "text/plain": [
       "  product_id product_category_name  month_year  qty  total_price  \\\n",
       "0       bed1        bed_bath_table  01-05-2017    1        45.95   \n",
       "1       bed1        bed_bath_table  01-06-2017    3       137.85   \n",
       "2       bed1        bed_bath_table  01-07-2017    6       275.70   \n",
       "3       bed1        bed_bath_table  01-08-2017    4       183.80   \n",
       "4       bed1        bed_bath_table  01-09-2017    2        91.90   \n",
       "\n",
       "   freight_price  unit_price  product_name_lenght  product_description_lenght  \\\n",
       "0      15.100000       45.95                   39                         161   \n",
       "1      12.933333       45.95                   39                         161   \n",
       "2      14.840000       45.95                   39                         161   \n",
       "3      14.287500       45.95                   39                         161   \n",
       "4      15.100000       45.95                   39                         161   \n",
       "\n",
       "   product_photos_qty  ...  comp_1  ps1        fp1      comp_2  ps2  \\\n",
       "0                   2  ...    89.9  3.9  15.011897  215.000000  4.4   \n",
       "1                   2  ...    89.9  3.9  14.769216  209.000000  4.4   \n",
       "2                   2  ...    89.9  3.9  13.993833  205.000000  4.4   \n",
       "3                   2  ...    89.9  3.9  14.656757  199.509804  4.4   \n",
       "4                   2  ...    89.9  3.9  18.776522  163.398710  4.4   \n",
       "\n",
       "         fp2  comp_3  ps3        fp3  lag_price  \n",
       "0   8.760000   45.95  4.0  15.100000      45.90  \n",
       "1  21.322000   45.95  4.0  12.933333      45.95  \n",
       "2  22.195932   45.95  4.0  14.840000      45.95  \n",
       "3  19.412885   45.95  4.0  14.287500      45.95  \n",
       "4  24.324687   45.95  4.0  15.100000      45.95  \n",
       "\n",
       "[5 rows x 30 columns]"
      ]
     },
     "execution_count": 6,
     "metadata": {},
     "output_type": "execute_result"
    }
   ],
   "source": [
    "df.head()"
   ]
  },
  {
   "cell_type": "code",
   "execution_count": 7,
   "id": "fa1c1814",
   "metadata": {},
   "outputs": [
    {
     "data": {
      "text/html": [
       "<div>\n",
       "<style scoped>\n",
       "    .dataframe tbody tr th:only-of-type {\n",
       "        vertical-align: middle;\n",
       "    }\n",
       "\n",
       "    .dataframe tbody tr th {\n",
       "        vertical-align: top;\n",
       "    }\n",
       "\n",
       "    .dataframe thead th {\n",
       "        text-align: right;\n",
       "    }\n",
       "</style>\n",
       "<table border=\"1\" class=\"dataframe\">\n",
       "  <thead>\n",
       "    <tr style=\"text-align: right;\">\n",
       "      <th></th>\n",
       "      <th>count</th>\n",
       "      <th>mean</th>\n",
       "      <th>std</th>\n",
       "      <th>min</th>\n",
       "      <th>25%</th>\n",
       "      <th>50%</th>\n",
       "      <th>75%</th>\n",
       "      <th>max</th>\n",
       "    </tr>\n",
       "  </thead>\n",
       "  <tbody>\n",
       "    <tr>\n",
       "      <th>qty</th>\n",
       "      <td>676.0</td>\n",
       "      <td>14.495562</td>\n",
       "      <td>15.443421</td>\n",
       "      <td>1.000000</td>\n",
       "      <td>4.000000</td>\n",
       "      <td>10.000000</td>\n",
       "      <td>18.000000</td>\n",
       "      <td>122.00</td>\n",
       "    </tr>\n",
       "    <tr>\n",
       "      <th>total_price</th>\n",
       "      <td>676.0</td>\n",
       "      <td>1422.708728</td>\n",
       "      <td>1700.123100</td>\n",
       "      <td>19.900000</td>\n",
       "      <td>333.700000</td>\n",
       "      <td>807.890000</td>\n",
       "      <td>1887.322500</td>\n",
       "      <td>12095.00</td>\n",
       "    </tr>\n",
       "    <tr>\n",
       "      <th>freight_price</th>\n",
       "      <td>676.0</td>\n",
       "      <td>20.682270</td>\n",
       "      <td>10.081817</td>\n",
       "      <td>0.000000</td>\n",
       "      <td>14.761912</td>\n",
       "      <td>17.518472</td>\n",
       "      <td>22.713558</td>\n",
       "      <td>79.76</td>\n",
       "    </tr>\n",
       "    <tr>\n",
       "      <th>unit_price</th>\n",
       "      <td>676.0</td>\n",
       "      <td>106.496800</td>\n",
       "      <td>76.182972</td>\n",
       "      <td>19.900000</td>\n",
       "      <td>53.900000</td>\n",
       "      <td>89.900000</td>\n",
       "      <td>129.990000</td>\n",
       "      <td>364.00</td>\n",
       "    </tr>\n",
       "    <tr>\n",
       "      <th>product_name_lenght</th>\n",
       "      <td>676.0</td>\n",
       "      <td>48.720414</td>\n",
       "      <td>9.420715</td>\n",
       "      <td>29.000000</td>\n",
       "      <td>40.000000</td>\n",
       "      <td>51.000000</td>\n",
       "      <td>57.000000</td>\n",
       "      <td>60.00</td>\n",
       "    </tr>\n",
       "    <tr>\n",
       "      <th>product_description_lenght</th>\n",
       "      <td>676.0</td>\n",
       "      <td>767.399408</td>\n",
       "      <td>655.205015</td>\n",
       "      <td>100.000000</td>\n",
       "      <td>339.000000</td>\n",
       "      <td>501.000000</td>\n",
       "      <td>903.000000</td>\n",
       "      <td>3006.00</td>\n",
       "    </tr>\n",
       "    <tr>\n",
       "      <th>product_photos_qty</th>\n",
       "      <td>676.0</td>\n",
       "      <td>1.994083</td>\n",
       "      <td>1.420473</td>\n",
       "      <td>1.000000</td>\n",
       "      <td>1.000000</td>\n",
       "      <td>1.500000</td>\n",
       "      <td>2.000000</td>\n",
       "      <td>8.00</td>\n",
       "    </tr>\n",
       "    <tr>\n",
       "      <th>product_weight_g</th>\n",
       "      <td>676.0</td>\n",
       "      <td>1847.498521</td>\n",
       "      <td>2274.808483</td>\n",
       "      <td>100.000000</td>\n",
       "      <td>348.000000</td>\n",
       "      <td>950.000000</td>\n",
       "      <td>1850.000000</td>\n",
       "      <td>9750.00</td>\n",
       "    </tr>\n",
       "    <tr>\n",
       "      <th>product_score</th>\n",
       "      <td>676.0</td>\n",
       "      <td>4.085503</td>\n",
       "      <td>0.232021</td>\n",
       "      <td>3.300000</td>\n",
       "      <td>3.900000</td>\n",
       "      <td>4.100000</td>\n",
       "      <td>4.200000</td>\n",
       "      <td>4.50</td>\n",
       "    </tr>\n",
       "    <tr>\n",
       "      <th>customers</th>\n",
       "      <td>676.0</td>\n",
       "      <td>81.028107</td>\n",
       "      <td>62.055560</td>\n",
       "      <td>1.000000</td>\n",
       "      <td>34.000000</td>\n",
       "      <td>62.000000</td>\n",
       "      <td>116.000000</td>\n",
       "      <td>339.00</td>\n",
       "    </tr>\n",
       "    <tr>\n",
       "      <th>weekday</th>\n",
       "      <td>676.0</td>\n",
       "      <td>21.773669</td>\n",
       "      <td>0.986104</td>\n",
       "      <td>20.000000</td>\n",
       "      <td>21.000000</td>\n",
       "      <td>22.000000</td>\n",
       "      <td>23.000000</td>\n",
       "      <td>23.00</td>\n",
       "    </tr>\n",
       "    <tr>\n",
       "      <th>weekend</th>\n",
       "      <td>676.0</td>\n",
       "      <td>8.658284</td>\n",
       "      <td>0.705600</td>\n",
       "      <td>8.000000</td>\n",
       "      <td>8.000000</td>\n",
       "      <td>9.000000</td>\n",
       "      <td>9.000000</td>\n",
       "      <td>10.00</td>\n",
       "    </tr>\n",
       "    <tr>\n",
       "      <th>holiday</th>\n",
       "      <td>676.0</td>\n",
       "      <td>1.494083</td>\n",
       "      <td>0.940430</td>\n",
       "      <td>0.000000</td>\n",
       "      <td>1.000000</td>\n",
       "      <td>1.000000</td>\n",
       "      <td>2.000000</td>\n",
       "      <td>4.00</td>\n",
       "    </tr>\n",
       "    <tr>\n",
       "      <th>month</th>\n",
       "      <td>676.0</td>\n",
       "      <td>6.192308</td>\n",
       "      <td>3.243455</td>\n",
       "      <td>1.000000</td>\n",
       "      <td>3.000000</td>\n",
       "      <td>6.000000</td>\n",
       "      <td>8.000000</td>\n",
       "      <td>12.00</td>\n",
       "    </tr>\n",
       "    <tr>\n",
       "      <th>year</th>\n",
       "      <td>676.0</td>\n",
       "      <td>2017.525148</td>\n",
       "      <td>0.499737</td>\n",
       "      <td>2017.000000</td>\n",
       "      <td>2017.000000</td>\n",
       "      <td>2018.000000</td>\n",
       "      <td>2018.000000</td>\n",
       "      <td>2018.00</td>\n",
       "    </tr>\n",
       "    <tr>\n",
       "      <th>s</th>\n",
       "      <td>676.0</td>\n",
       "      <td>14.644970</td>\n",
       "      <td>11.930276</td>\n",
       "      <td>0.484262</td>\n",
       "      <td>7.510204</td>\n",
       "      <td>11.316760</td>\n",
       "      <td>17.745704</td>\n",
       "      <td>100.00</td>\n",
       "    </tr>\n",
       "    <tr>\n",
       "      <th>volume</th>\n",
       "      <td>676.0</td>\n",
       "      <td>10664.627219</td>\n",
       "      <td>9172.801850</td>\n",
       "      <td>640.000000</td>\n",
       "      <td>3510.000000</td>\n",
       "      <td>8000.000000</td>\n",
       "      <td>15750.000000</td>\n",
       "      <td>32736.00</td>\n",
       "    </tr>\n",
       "    <tr>\n",
       "      <th>comp_1</th>\n",
       "      <td>676.0</td>\n",
       "      <td>79.452054</td>\n",
       "      <td>47.933358</td>\n",
       "      <td>19.900000</td>\n",
       "      <td>49.910000</td>\n",
       "      <td>69.900000</td>\n",
       "      <td>104.256549</td>\n",
       "      <td>349.90</td>\n",
       "    </tr>\n",
       "    <tr>\n",
       "      <th>ps1</th>\n",
       "      <td>676.0</td>\n",
       "      <td>4.159467</td>\n",
       "      <td>0.121652</td>\n",
       "      <td>3.700000</td>\n",
       "      <td>4.100000</td>\n",
       "      <td>4.200000</td>\n",
       "      <td>4.200000</td>\n",
       "      <td>4.50</td>\n",
       "    </tr>\n",
       "    <tr>\n",
       "      <th>fp1</th>\n",
       "      <td>676.0</td>\n",
       "      <td>18.597610</td>\n",
       "      <td>9.406537</td>\n",
       "      <td>0.095439</td>\n",
       "      <td>13.826429</td>\n",
       "      <td>16.618984</td>\n",
       "      <td>19.732500</td>\n",
       "      <td>57.23</td>\n",
       "    </tr>\n",
       "    <tr>\n",
       "      <th>comp_2</th>\n",
       "      <td>676.0</td>\n",
       "      <td>92.930079</td>\n",
       "      <td>49.481269</td>\n",
       "      <td>19.900000</td>\n",
       "      <td>53.900000</td>\n",
       "      <td>89.990000</td>\n",
       "      <td>117.888889</td>\n",
       "      <td>349.90</td>\n",
       "    </tr>\n",
       "    <tr>\n",
       "      <th>ps2</th>\n",
       "      <td>676.0</td>\n",
       "      <td>4.123521</td>\n",
       "      <td>0.207189</td>\n",
       "      <td>3.300000</td>\n",
       "      <td>4.100000</td>\n",
       "      <td>4.200000</td>\n",
       "      <td>4.200000</td>\n",
       "      <td>4.40</td>\n",
       "    </tr>\n",
       "    <tr>\n",
       "      <th>fp2</th>\n",
       "      <td>676.0</td>\n",
       "      <td>18.620644</td>\n",
       "      <td>6.424174</td>\n",
       "      <td>4.410000</td>\n",
       "      <td>14.485000</td>\n",
       "      <td>16.811765</td>\n",
       "      <td>21.665238</td>\n",
       "      <td>57.23</td>\n",
       "    </tr>\n",
       "    <tr>\n",
       "      <th>comp_3</th>\n",
       "      <td>676.0</td>\n",
       "      <td>84.182642</td>\n",
       "      <td>47.745789</td>\n",
       "      <td>19.900000</td>\n",
       "      <td>53.785714</td>\n",
       "      <td>59.900000</td>\n",
       "      <td>99.990000</td>\n",
       "      <td>255.61</td>\n",
       "    </tr>\n",
       "    <tr>\n",
       "      <th>ps3</th>\n",
       "      <td>676.0</td>\n",
       "      <td>4.002071</td>\n",
       "      <td>0.233292</td>\n",
       "      <td>3.500000</td>\n",
       "      <td>3.900000</td>\n",
       "      <td>4.000000</td>\n",
       "      <td>4.100000</td>\n",
       "      <td>4.40</td>\n",
       "    </tr>\n",
       "    <tr>\n",
       "      <th>fp3</th>\n",
       "      <td>676.0</td>\n",
       "      <td>17.965007</td>\n",
       "      <td>5.533256</td>\n",
       "      <td>7.670000</td>\n",
       "      <td>15.042727</td>\n",
       "      <td>16.517110</td>\n",
       "      <td>19.447778</td>\n",
       "      <td>57.23</td>\n",
       "    </tr>\n",
       "    <tr>\n",
       "      <th>lag_price</th>\n",
       "      <td>676.0</td>\n",
       "      <td>107.399684</td>\n",
       "      <td>76.974657</td>\n",
       "      <td>19.850000</td>\n",
       "      <td>55.668750</td>\n",
       "      <td>89.900000</td>\n",
       "      <td>129.990000</td>\n",
       "      <td>364.00</td>\n",
       "    </tr>\n",
       "  </tbody>\n",
       "</table>\n",
       "</div>"
      ],
      "text/plain": [
       "                            count          mean          std          min  \\\n",
       "qty                         676.0     14.495562    15.443421     1.000000   \n",
       "total_price                 676.0   1422.708728  1700.123100    19.900000   \n",
       "freight_price               676.0     20.682270    10.081817     0.000000   \n",
       "unit_price                  676.0    106.496800    76.182972    19.900000   \n",
       "product_name_lenght         676.0     48.720414     9.420715    29.000000   \n",
       "product_description_lenght  676.0    767.399408   655.205015   100.000000   \n",
       "product_photos_qty          676.0      1.994083     1.420473     1.000000   \n",
       "product_weight_g            676.0   1847.498521  2274.808483   100.000000   \n",
       "product_score               676.0      4.085503     0.232021     3.300000   \n",
       "customers                   676.0     81.028107    62.055560     1.000000   \n",
       "weekday                     676.0     21.773669     0.986104    20.000000   \n",
       "weekend                     676.0      8.658284     0.705600     8.000000   \n",
       "holiday                     676.0      1.494083     0.940430     0.000000   \n",
       "month                       676.0      6.192308     3.243455     1.000000   \n",
       "year                        676.0   2017.525148     0.499737  2017.000000   \n",
       "s                           676.0     14.644970    11.930276     0.484262   \n",
       "volume                      676.0  10664.627219  9172.801850   640.000000   \n",
       "comp_1                      676.0     79.452054    47.933358    19.900000   \n",
       "ps1                         676.0      4.159467     0.121652     3.700000   \n",
       "fp1                         676.0     18.597610     9.406537     0.095439   \n",
       "comp_2                      676.0     92.930079    49.481269    19.900000   \n",
       "ps2                         676.0      4.123521     0.207189     3.300000   \n",
       "fp2                         676.0     18.620644     6.424174     4.410000   \n",
       "comp_3                      676.0     84.182642    47.745789    19.900000   \n",
       "ps3                         676.0      4.002071     0.233292     3.500000   \n",
       "fp3                         676.0     17.965007     5.533256     7.670000   \n",
       "lag_price                   676.0    107.399684    76.974657    19.850000   \n",
       "\n",
       "                                    25%          50%           75%       max  \n",
       "qty                            4.000000    10.000000     18.000000    122.00  \n",
       "total_price                  333.700000   807.890000   1887.322500  12095.00  \n",
       "freight_price                 14.761912    17.518472     22.713558     79.76  \n",
       "unit_price                    53.900000    89.900000    129.990000    364.00  \n",
       "product_name_lenght           40.000000    51.000000     57.000000     60.00  \n",
       "product_description_lenght   339.000000   501.000000    903.000000   3006.00  \n",
       "product_photos_qty             1.000000     1.500000      2.000000      8.00  \n",
       "product_weight_g             348.000000   950.000000   1850.000000   9750.00  \n",
       "product_score                  3.900000     4.100000      4.200000      4.50  \n",
       "customers                     34.000000    62.000000    116.000000    339.00  \n",
       "weekday                       21.000000    22.000000     23.000000     23.00  \n",
       "weekend                        8.000000     9.000000      9.000000     10.00  \n",
       "holiday                        1.000000     1.000000      2.000000      4.00  \n",
       "month                          3.000000     6.000000      8.000000     12.00  \n",
       "year                        2017.000000  2018.000000   2018.000000   2018.00  \n",
       "s                              7.510204    11.316760     17.745704    100.00  \n",
       "volume                      3510.000000  8000.000000  15750.000000  32736.00  \n",
       "comp_1                        49.910000    69.900000    104.256549    349.90  \n",
       "ps1                            4.100000     4.200000      4.200000      4.50  \n",
       "fp1                           13.826429    16.618984     19.732500     57.23  \n",
       "comp_2                        53.900000    89.990000    117.888889    349.90  \n",
       "ps2                            4.100000     4.200000      4.200000      4.40  \n",
       "fp2                           14.485000    16.811765     21.665238     57.23  \n",
       "comp_3                        53.785714    59.900000     99.990000    255.61  \n",
       "ps3                            3.900000     4.000000      4.100000      4.40  \n",
       "fp3                           15.042727    16.517110     19.447778     57.23  \n",
       "lag_price                     55.668750    89.900000    129.990000    364.00  "
      ]
     },
     "execution_count": 7,
     "metadata": {},
     "output_type": "execute_result"
    }
   ],
   "source": [
    "df.describe().T"
   ]
  },
  {
   "cell_type": "code",
   "execution_count": 8,
   "id": "eaf68c4c",
   "metadata": {},
   "outputs": [
    {
     "data": {
      "image/png": "[encoded data removed]",
      "text/plain": [
       "<Figure size 720x360 with 1 Axes>"
      ]
     },
     "metadata": {
      "needs_background": "light"
     },
     "output_type": "display_data"
    },
    {
     "data": {
      "image/png": "[encoded data removed]",
      "text/plain": [
       "<Figure size 432x288 with 1 Axes>"
      ]
     },
     "metadata": {
      "needs_background": "light"
     },
     "output_type": "display_data"
    },
    {
     "data": {
      "image/png": "[encoded data removed]",
      "text/plain": [
       "<Figure size 432x288 with 1 Axes>"
      ]
     },
     "metadata": {
      "needs_background": "light"
     },
     "output_type": "display_data"
    },
    {
     "data": {
      "image/png": "[encoded data removed]",
      "text/plain": [
       "<Figure size 720x288 with 1 Axes>"
      ]
     },
     "metadata": {
      "needs_background": "light"
     },
     "output_type": "display_data"
    },
    {
     "data": {
      "image/png": "[encoded data removed]",
      "text/plain": [
       "<Figure size 720x288 with 1 Axes>"
      ]
     },
     "metadata": {
      "needs_background": "light"
     },
     "output_type": "display_data"
    },
    {
     "data": {
      "image/png": "[encoded data removed]",
      "text/plain": [
       "<Figure size 432x288 with 1 Axes>"
      ]
     },
     "metadata": {
      "needs_background": "light"
     },
     "output_type": "display_data"
    },
    {
     "data": {
      "image/png": "[encoded data removed]",
      "text/plain": [
       "<Figure size 432x288 with 1 Axes>"
      ]
     },
     "metadata": {
      "needs_background": "light"
     },
     "output_type": "display_data"
    },
    {
     "data": {
      "image/png": "[encoded data removed]",
      "text/plain": [
       "<Figure size 720x216 with 1 Axes>"
      ]
     },
     "metadata": {
      "needs_background": "light"
     },
     "output_type": "display_data"
    },
    {
     "data": {
      "image/png": "[encoded data removed]",
      "text/plain": [
       "<Figure size 720x216 with 1 Axes>"
      ]
     },
     "metadata": {
      "needs_background": "light"
     },
     "output_type": "display_data"
    },
    {
     "data": {
      "image/png": "[encoded data removed]",
      "text/plain": [
       "<Figure size 720x216 with 1 Axes>"
      ]
     },
     "metadata": {
      "needs_background": "light"
     },
     "output_type": "display_data"
    },
    {
     "data": {
      "image/png": "[encoded data removed]",
      "text/plain": [
       "<Figure size 720x216 with 1 Axes>"
      ]
     },
     "metadata": {
      "needs_background": "light"
     },
     "output_type": "display_data"
    },
    {
     "data": {
      "image/png": "[encoded data removed]",
      "text/plain": [
       "<Figure size 720x216 with 1 Axes>"
      ]
     },
     "metadata": {
      "needs_background": "light"
     },
     "output_type": "display_data"
    },
    {
     "data": {
      "image/png": "[encoded data removed]",
      "text/plain": [
       "<Figure size 720x216 with 1 Axes>"
      ]
     },
     "metadata": {
      "needs_background": "light"
     },
     "output_type": "display_data"
    },
    {
     "data": {
      "image/png": "[encoded data removed]",
      "text/plain": [
       "<Figure size 864x576 with 1 Axes>"
      ]
     },
     "metadata": {
      "needs_background": "light"
     },
     "output_type": "display_data"
    }
   ],
   "source": [
    "\n",
    "# Set the \"rocket\" color palette\n",
    "sns.set_palette(\"rocket\")\n",
    "\n",
    "# Create subplots\n",
    "plt.figure(figsize=(10, 5))\n",
    "\n",
    "# Plot 1: Histogram of Total Price\n",
    "sns.histplot(data=df, x='total_price', bins=20, kde=True, palette=\"rocket_r\")\n",
    "plt.title('Distribution of Total Price')\n",
    "plt.show()\n",
    "\n",
    "# Plot 2: Box Plot of Unit Price\n",
    "sns.boxplot(data=df, y='unit_price', palette=\"rocket_r\")\n",
    "plt.title('Distribution of Unit Price')\n",
    "plt.show()\n",
    "\n",
    "# Plot 3: Scatter Plot of Quantity vs Total Price\n",
    "sns.regplot(data=df, x='qty', y='total_price', scatter_kws={'alpha': 0.5})\n",
    "plt.title('Quantity vs Total Price with Trendline')\n",
    "plt.show()\n",
    "\n",
    "# Plot 4: Bar Plot of Total Price by Product Category\n",
    "category_order = df.groupby('product_category_name')['total_price'].mean().sort_values(ascending=False).index\n",
    "plt.figure(figsize=(10, 4))  # Adjust figure size as needed\n",
    "sns.barplot(data=df, x='product_category_name', y='total_price', ci=None, order=category_order, palette=\"rocket\")\n",
    "plt.title('Total Price by Product Category')\n",
    "plt.xticks(rotation=35)\n",
    "plt.show()\n",
    "\n",
    "# Plot 5: Bar Plot of Unit Price by Product Category\n",
    "unit_price_order = df.groupby('product_category_name')['unit_price'].mean().sort_values(ascending=False).index\n",
    "plt.figure(figsize=(10, 4))  # Adjust figure size as needed\n",
    "sns.barplot(data=df, x='product_category_name', y='unit_price', ci=None, order=unit_price_order, palette=\"rocket\")\n",
    "plt.title('Unit Price by Product Category')\n",
    "plt.xticks(rotation=35)\n",
    "plt.show()\n",
    "\n",
    "# Plot 6: Box Plot of Total Price by Number of Weekdays\n",
    "sns.boxplot(data=df, x='weekday', y='total_price')\n",
    "plt.title('Box Plot of Total Price by Number of Weekdays in a Month')\n",
    "plt.show()\n",
    "\n",
    "# Plot 7: Box Plot of Total Price by Number of Weekend Days\n",
    "sns.boxplot(data=df, x='weekend', y='total_price')\n",
    "plt.title('Box Plot of Total Price by Number of Weekend Days in a Month')\n",
    "plt.show()\n",
    "\n",
    "# Plot 8: Bar Plot of Competitor Price Differences\n",
    "\n",
    "for i in range(1, 4):\n",
    "    plt.figure(figsize=(10, 3))\n",
    "    comp = f'comp_{i}'\n",
    "    df[f'{comp}_price_diff'] = df['unit_price'] - df[comp]\n",
    "    price_diff = f'{comp}_price_diff'\n",
    "    sns.barplot(data=df, x='product_category_name', y=price_diff, ci=None, palette=\"rocket\")\n",
    "    plt.title(f'Competitor {i} Price Difference per Unit')\n",
    "    plt.xticks(rotation=45)\n",
    "    \n",
    "    plt.show()\n",
    "\n",
    "# Plot 9: Bar Plot of Freight Price Differences\n",
    "\n",
    "for i in range(1, 4):\n",
    "    plt.figure(figsize=(10, 3))\n",
    "    fp = f'fp{i}'\n",
    "    df[f'{fp}_diff'] = df['freight_price'] - df[fp]\n",
    "    fp_diff = f'{fp}_diff'\n",
    "    sns.barplot(data=df, x='product_category_name', y=fp_diff, ci=None, palette=\"rocket\")\n",
    "    plt.title(f'Competitor {i} Shipping Price Difference')\n",
    "    plt.xticks(rotation=45)\n",
    "    \n",
    "    plt.show()\n",
    "\n",
    "# Plot 10: Correlation Analysis with Unit Price\n",
    "sns.set_palette(\"rocket_r\")\n",
    "plt.figure(figsize=(12, 8))\n",
    "corrs = df.corr()['unit_price'].sort_values(ascending=False)\n",
    "sns.barplot(y=corrs.index, x=corrs.values, palette=\"rocket\")\n",
    "plt.title('Correlation of Features with Unit Price')\n",
    "#plt.xticks(rotation=25)\n",
    "plt.show()\n"
   ]
  },
  {
   "cell_type": "code",
   "execution_count": 9,
   "id": "09669f33",
   "metadata": {},
   "outputs": [
    {
     "data": {
      "image/png": "[encoded data removed]",
      "text/plain": [
       "<Figure size 864x432 with 2 Axes>"
      ]
     },
     "metadata": {
      "needs_background": "light"
     },
     "output_type": "display_data"
    }
   ],
   "source": [
    "\n",
    "# Convert 'month_year' to datetime if it's not already\n",
    "df['month_year'] = pd.to_datetime(df['month_year'], format='%d-%m-%Y')\n",
    "\n",
    "# Set the \"rocket\" color palette\n",
    "sns.set_palette(\"rocket\")\n",
    "\n",
    "# Create subplots\n",
    "plt.figure(figsize=(12, 6))\n",
    "\n",
    "# Plot 1: Univariate trendline for Unit Price using lineplot\n",
    "plt.subplot(1, 2, 1)\n",
    "sns.lineplot(data=df, x='month_year', y='unit_price', ci=None, palette=\"rocket_r\")\n",
    "plt.title('Unit Price Trend over Months')\n",
    "plt.xticks(rotation=45)\n",
    "\n",
    "# Plot 2: Univariate trendline for Total Price using lineplot\n",
    "plt.subplot(1, 2, 2)\n",
    "sns.lineplot(data=df, x='month_year', y='total_price', ci=None, palette=\"rocket\")\n",
    "plt.title('Total Price Trend over Months')\n",
    "plt.xticks(rotation=45)\n",
    "\n",
    "# Adjust layout\n",
    "plt.tight_layout()\n",
    "\n",
    "# Show the plots\n",
    "plt.show()"
   ]
  },
  {
   "cell_type": "code",
   "execution_count": 10,
   "id": "61a8f709",
   "metadata": {
    "scrolled": true
   },
   "outputs": [
    {
     "data": {
      "text/html": [
       "<div>\n",
       "<style scoped>\n",
       "    .dataframe tbody tr th:only-of-type {\n",
       "        vertical-align: middle;\n",
       "    }\n",
       "\n",
       "    .dataframe tbody tr th {\n",
       "        vertical-align: top;\n",
       "    }\n",
       "\n",
       "    .dataframe thead th {\n",
       "        text-align: right;\n",
       "    }\n",
       "</style>\n",
       "<table border=\"1\" class=\"dataframe\">\n",
       "  <thead>\n",
       "    <tr style=\"text-align: right;\">\n",
       "      <th></th>\n",
       "      <th>month_year</th>\n",
       "      <th>unit_price</th>\n",
       "      <th>total_price</th>\n",
       "      <th>freight_price</th>\n",
       "      <th>qty</th>\n",
       "      <th>weekday</th>\n",
       "      <th>weekend</th>\n",
       "      <th>customers</th>\n",
       "    </tr>\n",
       "  </thead>\n",
       "  <tbody>\n",
       "    <tr>\n",
       "      <th>0</th>\n",
       "      <td>2017-01-01</td>\n",
       "      <td>207.445000</td>\n",
       "      <td>2864.19</td>\n",
       "      <td>33.961250</td>\n",
       "      <td>9</td>\n",
       "      <td>44</td>\n",
       "      <td>18</td>\n",
       "      <td>18</td>\n",
       "    </tr>\n",
       "    <tr>\n",
       "      <th>1</th>\n",
       "      <td>2017-02-01</td>\n",
       "      <td>127.827143</td>\n",
       "      <td>3584.11</td>\n",
       "      <td>217.847838</td>\n",
       "      <td>35</td>\n",
       "      <td>180</td>\n",
       "      <td>72</td>\n",
       "      <td>78</td>\n",
       "    </tr>\n",
       "    <tr>\n",
       "      <th>2</th>\n",
       "      <td>2017-03-01</td>\n",
       "      <td>122.586615</td>\n",
       "      <td>10204.38</td>\n",
       "      <td>282.314965</td>\n",
       "      <td>101</td>\n",
       "      <td>299</td>\n",
       "      <td>104</td>\n",
       "      <td>242</td>\n",
       "    </tr>\n",
       "    <tr>\n",
       "      <th>3</th>\n",
       "      <td>2017-04-01</td>\n",
       "      <td>119.288667</td>\n",
       "      <td>11524.62</td>\n",
       "      <td>335.440132</td>\n",
       "      <td>121</td>\n",
       "      <td>300</td>\n",
       "      <td>150</td>\n",
       "      <td>309</td>\n",
       "    </tr>\n",
       "    <tr>\n",
       "      <th>4</th>\n",
       "      <td>2017-05-01</td>\n",
       "      <td>104.785769</td>\n",
       "      <td>21843.33</td>\n",
       "      <td>393.828633</td>\n",
       "      <td>222</td>\n",
       "      <td>460</td>\n",
       "      <td>160</td>\n",
       "      <td>803</td>\n",
       "    </tr>\n",
       "  </tbody>\n",
       "</table>\n",
       "</div>"
      ],
      "text/plain": [
       "  month_year  unit_price  total_price  freight_price  qty  weekday  weekend  \\\n",
       "0 2017-01-01  207.445000      2864.19      33.961250    9       44       18   \n",
       "1 2017-02-01  127.827143      3584.11     217.847838   35      180       72   \n",
       "2 2017-03-01  122.586615     10204.38     282.314965  101      299      104   \n",
       "3 2017-04-01  119.288667     11524.62     335.440132  121      300      150   \n",
       "4 2017-05-01  104.785769     21843.33     393.828633  222      460      160   \n",
       "\n",
       "   customers  \n",
       "0         18  \n",
       "1         78  \n",
       "2        242  \n",
       "3        309  \n",
       "4        803  "
      ]
     },
     "execution_count": 10,
     "metadata": {},
     "output_type": "execute_result"
    }
   ],
   "source": [
    "monthly_df = df.groupby(by='month_year').agg({\n",
    "    'unit_price': 'mean', 'total_price': 'sum', 'freight_price': 'sum',\n",
    "    'qty': 'sum', 'weekday': 'sum', 'weekend': 'sum', 'customers': 'sum'\n",
    "}).reset_index()\n",
    "monthly_df['month_year'] = pd.to_datetime(monthly_df['month_year'], format='%d-%m-%Y')\n",
    "monthly_df = monthly_df.sort_values(by='month_year')\n",
    "monthly_df.head()"
   ]
  },
  {
   "cell_type": "code",
   "execution_count": 11,
   "id": "b6294e5b",
   "metadata": {},
   "outputs": [
    {
     "data": {
      "image/png": "[encoded data removed]",
      "text/plain": [
       "<Figure size 432x288 with 1 Axes>"
      ]
     },
     "metadata": {
      "needs_background": "light"
     },
     "output_type": "display_data"
    },
    {
     "data": {
      "image/png": "[encoded data removed]",
      "text/plain": [
       "<Figure size 432x288 with 1 Axes>"
      ]
     },
     "metadata": {
      "needs_background": "light"
     },
     "output_type": "display_data"
    },
    {
     "data": {
      "image/png": "[encoded data removed]",
      "text/plain": [
       "<Figure size 864x432 with 1 Axes>"
      ]
     },
     "metadata": {
      "needs_background": "light"
     },
     "output_type": "display_data"
    }
   ],
   "source": [
    "sns.set_palette(\"rocket\")\n",
    "\n",
    "# Create subplots\n",
    "\n",
    "# Plot 1: Scatter Plot of Total Price vs Number of Customers\n",
    "\n",
    "sns.regplot(data=monthly_df, x='customers', y='total_price', scatter_kws={'alpha': 0.5})\n",
    "plt.title('Total Price vs Number of Customers')\n",
    "plt.xlabel('Number of Customers')\n",
    "plt.ylabel('Total Price')\n",
    "plt.show()\n",
    "\n",
    "# Plot 2: Scatter Plot of Weekly Analysis of Total Price\n",
    "\n",
    "sns.regplot(data=monthly_df, x='weekend', y='total_price', scatter_kws={'alpha': 0.5})\n",
    "plt.title('Weekly Analysis of Total Price')\n",
    "plt.xlabel('Weekend Days in a Month')\n",
    "plt.ylabel('Total Price')\n",
    "plt.show()\n",
    "\n",
    "# Plot 3: Bar Plot of Customers per Month\n",
    "plt.figure(figsize=(12, 6))\n",
    "sns.barplot(data=monthly_df, x=monthly_df['month_year'].dt.strftime('%b %Y'), y='customers', palette=\"rocket\")\n",
    "plt.title('Customers per Month')\n",
    "plt.xlabel('Month-Year')\n",
    "plt.ylabel('Number of Customers')\n",
    "plt.xticks(rotation=45)\n",
    "plt.show()"
   ]
  },
  {
   "cell_type": "code",
   "execution_count": 12,
   "id": "7215b76b",
   "metadata": {},
   "outputs": [
    {
     "data": {
      "text/html": [
       "<div>\n",
       "<style scoped>\n",
       "    .dataframe tbody tr th:only-of-type {\n",
       "        vertical-align: middle;\n",
       "    }\n",
       "\n",
       "    .dataframe tbody tr th {\n",
       "        vertical-align: top;\n",
       "    }\n",
       "\n",
       "    .dataframe thead th {\n",
       "        text-align: right;\n",
       "    }\n",
       "</style>\n",
       "<table border=\"1\" class=\"dataframe\">\n",
       "  <thead>\n",
       "    <tr style=\"text-align: right;\">\n",
       "      <th></th>\n",
       "      <th>month_year</th>\n",
       "      <th>unit_price</th>\n",
       "      <th>total_price</th>\n",
       "      <th>freight_price</th>\n",
       "      <th>qty</th>\n",
       "      <th>weekday</th>\n",
       "      <th>weekend</th>\n",
       "      <th>customers</th>\n",
       "    </tr>\n",
       "  </thead>\n",
       "  <tbody>\n",
       "    <tr>\n",
       "      <th>0</th>\n",
       "      <td>2017-01-01</td>\n",
       "      <td>207.445000</td>\n",
       "      <td>2864.19</td>\n",
       "      <td>33.961250</td>\n",
       "      <td>9</td>\n",
       "      <td>44</td>\n",
       "      <td>18</td>\n",
       "      <td>18</td>\n",
       "    </tr>\n",
       "    <tr>\n",
       "      <th>1</th>\n",
       "      <td>2017-02-01</td>\n",
       "      <td>127.827143</td>\n",
       "      <td>3584.11</td>\n",
       "      <td>217.847838</td>\n",
       "      <td>35</td>\n",
       "      <td>180</td>\n",
       "      <td>72</td>\n",
       "      <td>78</td>\n",
       "    </tr>\n",
       "    <tr>\n",
       "      <th>2</th>\n",
       "      <td>2017-03-01</td>\n",
       "      <td>122.586615</td>\n",
       "      <td>10204.38</td>\n",
       "      <td>282.314965</td>\n",
       "      <td>101</td>\n",
       "      <td>299</td>\n",
       "      <td>104</td>\n",
       "      <td>242</td>\n",
       "    </tr>\n",
       "    <tr>\n",
       "      <th>3</th>\n",
       "      <td>2017-04-01</td>\n",
       "      <td>119.288667</td>\n",
       "      <td>11524.62</td>\n",
       "      <td>335.440132</td>\n",
       "      <td>121</td>\n",
       "      <td>300</td>\n",
       "      <td>150</td>\n",
       "      <td>309</td>\n",
       "    </tr>\n",
       "    <tr>\n",
       "      <th>4</th>\n",
       "      <td>2017-05-01</td>\n",
       "      <td>104.785769</td>\n",
       "      <td>21843.33</td>\n",
       "      <td>393.828633</td>\n",
       "      <td>222</td>\n",
       "      <td>460</td>\n",
       "      <td>160</td>\n",
       "      <td>803</td>\n",
       "    </tr>\n",
       "  </tbody>\n",
       "</table>\n",
       "</div>"
      ],
      "text/plain": [
       "  month_year  unit_price  total_price  freight_price  qty  weekday  weekend  \\\n",
       "0 2017-01-01  207.445000      2864.19      33.961250    9       44       18   \n",
       "1 2017-02-01  127.827143      3584.11     217.847838   35      180       72   \n",
       "2 2017-03-01  122.586615     10204.38     282.314965  101      299      104   \n",
       "3 2017-04-01  119.288667     11524.62     335.440132  121      300      150   \n",
       "4 2017-05-01  104.785769     21843.33     393.828633  222      460      160   \n",
       "\n",
       "   customers  \n",
       "0         18  \n",
       "1         78  \n",
       "2        242  \n",
       "3        309  \n",
       "4        803  "
      ]
     },
     "execution_count": 12,
     "metadata": {},
     "output_type": "execute_result"
    }
   ],
   "source": [
    "# Aggregating data by month\n",
    "monthly_df = df.groupby(by='month_year').agg({\n",
    "    'unit_price': 'mean', 'total_price': 'sum', 'freight_price': 'sum',\n",
    "    'qty': 'sum', 'weekday': 'sum', 'weekend': 'sum', 'customers': 'sum'\n",
    "}).reset_index()\n",
    "\n",
    "# Convert 'month_year' to datetime if not already\n",
    "monthly_df['month_year'] = pd.to_datetime(monthly_df['month_year'], format='%d-%m-%Y')\n",
    "monthly_df = monthly_df.sort_values(by='month_year')\n",
    "monthly_df.head()\n",
    "\n",
    "# Feature engineering on mean and sum dataframes\n",
    "# Example: Calculate price differences between competitors (comp1_diff, comp2_diff, comp3_diff)\n",
    "# Create 'X' with features and 'y' with target variable"
   ]
  },
  {
   "cell_type": "code",
   "execution_count": 13,
   "id": "6e7c05aa",
   "metadata": {},
   "outputs": [],
   "source": [
    "df['month_year'] = pd.to_datetime(df['month_year'], format='%d-%m-%Y')\n",
    "df['month'] = df['month_year'].dt.month\n",
    "df['year'] = df['month_year'].dt.year\n",
    "\n",
    "# Creating a new feature 'revenue' based on 'total_price' and 'qty'\n",
    "df['revenue'] = df['total_price'] * df['qty']\n",
    "\n",
    "# Creating dummy variables for 'product_category_name'\n",
    "df = pd.get_dummies(df, columns=['product_category_name'], drop_first=True)\n",
    "\n",
    "# Selecting relevant features for modeling\n",
    "selected_features = [\n",
    "    'unit_price', 'freight_price', 'product_score', 'product_photos_qty',\n",
    "    'product_weight_g', 'customers', 'weekday', 'weekend', 'holiday',\n",
    "    'month', 'year', 'revenue'\n",
    "]\n",
    "\n",
    "df = df[selected_features]"
   ]
  },
  {
   "cell_type": "code",
   "execution_count": 14,
   "id": "33ccbc13",
   "metadata": {},
   "outputs": [],
   "source": [
    "from sklearn.model_selection import train_test_split\n",
    "\n",
    "X = df.drop('unit_price', axis=1)  # Features\n",
    "y = df['unit_price']  # Target variable\n",
    "\n",
    "X_train, X_test, y_train, y_test = train_test_split(X, y, test_size=0.2, random_state=42)\n",
    "\n",
    "# Now, you have X_train, X_test, y_train, and y_test ready for modeling."
   ]
  },
  {
   "cell_type": "code",
   "execution_count": 15,
   "id": "f730aa78",
   "metadata": {},
   "outputs": [],
   "source": [
    "models = [\n",
    "    ('Ridge Regression', Ridge(alpha=1.0)),\n",
    "    ('Random Forest', RandomForestRegressor(n_estimators=100, random_state=42)),\n",
    "    ('Support Vector Machine', SVR(kernel='linear')),\n",
    "    ('K-Nearest Neighbors', KNeighborsRegressor(n_neighbors=5)),\n",
    "    ('K-Nearest Neighbors1', KNeighborsRegressor(n_neighbors=8)),\n",
    "    ('XGBoost', XGBRegressor(n_estimators=100, learning_rate=0.1, random_state=42))\n",
    "]\n",
    "\n"
   ]
  },
  {
   "cell_type": "code",
   "execution_count": 16,
   "id": "d97eeed3",
   "metadata": {},
   "outputs": [],
   "source": [
    "# Train and evaluate each model\n",
    "results = []\n",
    "for name, model in models:\n",
    "    model.fit(X_train, y_train)\n",
    "    predictions = model.predict(X_test)\n",
    "    \n",
    "    mae = mean_absolute_error(y_test, predictions)\n",
    "    r2 = r2_score(y_test, predictions)\n",
    "    \n",
    "    results.append({'Model': name, 'MAE': mae, 'R2': r2})\n",
    "\n"
   ]
  },
  {
   "cell_type": "code",
   "execution_count": 17,
   "id": "3a15674c",
   "metadata": {},
   "outputs": [
    {
     "name": "stdout",
     "output_type": "stream",
     "text": [
      "╒════╤════════════════════════╤═══════════╤═══════════════╕\n",
      "│    │ Model                  │       MAE │            R2 │\n",
      "╞════╪════════════════════════╪═══════════╪═══════════════╡\n",
      "│  0 │ Ridge Regression       │  55.2381  │     0.0240185 │\n",
      "├────┼────────────────────────┼───────────┼───────────────┤\n",
      "│  1 │ Random Forest          │   7.13627 │     0.975064  │\n",
      "├────┼────────────────────────┼───────────┼───────────────┤\n",
      "│  2 │ Support Vector Machine │ 708.452   │ -1077.44      │\n",
      "├────┼────────────────────────┼───────────┼───────────────┤\n",
      "│  3 │ K-Nearest Neighbors    │  57.6042  │    -0.167967  │\n",
      "├────┼────────────────────────┼───────────┼───────────────┤\n",
      "│  4 │ K-Nearest Neighbors1   │  52.3418  │     0.0515899 │\n",
      "├────┼────────────────────────┼───────────┼───────────────┤\n",
      "│  5 │ XGBoost                │   6.96712 │     0.977039  │\n",
      "╘════╧════════════════════════╧═══════════╧═══════════════╛\n"
     ]
    }
   ],
   "source": [
    "import tabulate\n",
    "\n",
    "# Assuming you have the 'results' DataFrame\n",
    "\n",
    "# Create a DataFrame to compare model results\n",
    "model_comparison_df = pd.DataFrame(results)\n",
    "\n",
    "# Display the model comparison table in a presentable format\n",
    "print(tabulate.tabulate(model_comparison_df, headers='keys', tablefmt='fancy_grid'))\n"
   ]
  },
  {
   "cell_type": "code",
   "execution_count": 99,
   "id": "1717c1de",
   "metadata": {},
   "outputs": [
    {
     "name": "stdout",
     "output_type": "stream",
     "text": [
      "                    Model         MAE           R2\n",
      "0        Ridge Regression   55.238095     0.024018\n",
      "1           Random Forest    7.136273     0.975064\n",
      "2  Support Vector Machine  708.452185 -1077.437989\n",
      "3     K-Nearest Neighbors   57.604218    -0.167967\n",
      "4                 XGBoost    6.967116     0.977039\n"
     ]
    },
    {
     "data": {
      "image/png": "[encoded data removed]",
      "text/plain": [
       "<Figure size 864x432 with 2 Axes>"
      ]
     },
     "metadata": {
      "needs_background": "light"
     },
     "output_type": "display_data"
    }
   ],
   "source": [
    "sns.set_palette(\"rocket\")\n",
    "\n",
    "# Create a DataFrame to compare model results\n",
    "model_comparison_df = pd.DataFrame(results)\n",
    "\n",
    "# Print and visualize model comparison\n",
    "print(model_comparison_df)\n",
    "\n",
    "# Create subplots using Seaborn\n",
    "plt.figure(figsize=(12, 6))\n",
    "\n",
    "# Plot 1: Model Comparison - Mean Absolute Error\n",
    "plt.subplot(1, 2, 1)\n",
    "sns.barplot(data=model_comparison_df, x='Model', y='MAE')\n",
    "plt.title('Model Comparison - Mean Absolute Error')\n",
    "plt.xticks(rotation=45)\n",
    "\n",
    "# Plot 2: Model Comparison - R-squared (R2)\n",
    "plt.subplot(1, 2, 2)\n",
    "sns.barplot(data=model_comparison_df, x='Model', y='R2')\n",
    "plt.title('Model Comparison - R-squared (R2)')\n",
    "plt.xticks(rotation=45)\n",
    "\n",
    "# Adjust layout\n",
    "plt.tight_layout()\n",
    "\n",
    "# Show the plots\n",
    "plt.show()"
   ]
  },
  {
   "cell_type": "code",
   "execution_count": 119,
   "id": "43f64a74",
   "metadata": {},
   "outputs": [
    {
     "data": {
      "application/vnd.plotly.v1+json": {
       "config": {
        "plotlyServerURL": "https://plot.ly"
       },
       "data": [
        {
         "marker": {
          "color": "indigo"
         },
         "mode": "markers",
         "name": "Predicted vs. Actual Retail Unit Price",
         "type": "scatter",
         "x": [
          45.95,
          45.95,
          45.95,
          45.95,
          45.95,
          45.95,
          40.53181818,
          39.99,
          39.99,
          39.99,
          39.99,
          39.99,
          39.99,
          39.99,
          39.99,
          39.24,
          69.9,
          82.63333333,
          97.58823529,
          89,
          89,
          97.33333333,
          99,
          99,
          99,
          99,
          99.5,
          101,
          101,
          101,
          19.9,
          19.9,
          19.9,
          21.54285714,
          24.5,
          24.5,
          32.5,
          32.5,
          35.05714286,
          36.2,
          36.2,
          36.2,
          59.9,
          59.9,
          59.9,
          59.9,
          59.9,
          59.9,
          51.32222222,
          56.97777778,
          49.9,
          51.4,
          53.9,
          53.9,
          52.9,
          49.9,
          49.9,
          49.9,
          19.99,
          19.99,
          19.99,
          19.99,
          19.99,
          19.99,
          23.39740741,
          23.99,
          23.99,
          23.99,
          23.99,
          23.99,
          23.99,
          23.99,
          23.99,
          23.99,
          23.99,
          23.99,
          134.99,
          134.99,
          146.99,
          157.3603704,
          166.99,
          166.99,
          176.99,
          173.8081818,
          169.99,
          110.99,
          110.99,
          110.99,
          116.5284615,
          119.99,
          122.99,
          122.99,
          122.99,
          56.99,
          56.99,
          56.99,
          56.99,
          56.99,
          56.99,
          56.99,
          56.99,
          56.99,
          50.49,
          49.99,
          49.99,
          49.99,
          99.99,
          99.99,
          99.99,
          99.99,
          99.99,
          99.99,
          99.99,
          99.99,
          99.99,
          99.99,
          99.99,
          97.952,
          84.6925,
          89.99,
          89.99,
          89.99,
          89.99,
          89.99,
          89.99,
          89.99,
          89.99,
          89.99,
          89.99,
          89.99,
          83.74,
          79.99,
          79.99,
          79.99,
          79.99,
          82.82142857,
          59.9,
          59.9,
          59.9,
          59.9,
          53.78571429,
          55.75,
          49.9,
          50.35714286,
          53.9,
          53.9,
          53.05789474,
          49.9,
          49.9,
          49.9,
          167,
          119.9,
          93.09489362,
          77.155,
          88,
          88,
          89.9,
          78.9,
          59.9,
          59.9,
          59.9,
          59.9,
          59.9,
          59.9,
          53.64828125,
          55.425,
          49.9,
          50.9,
          53.9,
          53.9,
          53.70952381,
          49.9,
          49.9,
          49.9,
          150.3545455,
          149.9,
          149.9,
          149.9,
          149.9,
          149.9,
          149.9,
          149.9,
          61.99,
          61.99,
          64.99,
          64.99,
          66.99,
          66.99,
          66.99,
          59.9,
          59.9,
          59.9,
          59.9,
          59.9,
          59.9,
          52.40694444,
          55.1,
          49.9,
          50.54516129,
          53.9,
          53.9,
          53.41515152,
          49.9,
          49.91,
          49.91,
          47.35789474,
          48.45944444,
          53.70176471,
          52.06928571,
          49.98,
          51.512,
          50.71,
          157.99,
          171.792,
          169.9,
          160.4,
          149.475,
          140.56,
          149,
          148.5,
          145.9942857,
          123.9666667,
          119.19,
          118.1318182,
          139.9,
          138.98,
          138,
          84.99,
          84.99,
          84.99,
          84.99,
          84.99,
          84.99,
          84.99,
          84.99,
          84.99,
          179.99,
          179.99,
          179.99,
          179.99,
          179.99,
          183.99,
          187.8542857,
          179,
          175.1538462,
          179,
          179,
          159,
          139,
          139,
          59.9,
          59.9,
          59.9,
          59.9,
          59.9,
          59.9,
          59.9,
          53.37910448,
          55.77096774,
          49.9,
          51.025,
          53.9,
          53.9,
          52.56666667,
          49.9,
          49.9,
          49.9,
          163,
          161.5909091,
          160.6692308,
          148.7785714,
          134.9,
          133,
          149,
          128.2416667,
          117.4412903,
          105.648625,
          103.7925234,
          119,
          118.3636364,
          112,
          29.5,
          29.5,
          35,
          35,
          35,
          65,
          65,
          142.5,
          142.5,
          142.5,
          118.05,
          118,
          117.9,
          117.8888889,
          117.7,
          117.975,
          119.9,
          119.1785714,
          118.7,
          116.9066667,
          129.99,
          129.99,
          129.99,
          129.99,
          129.99,
          116.9275,
          119.99,
          129.99,
          129.99,
          129.99,
          129.99,
          129.99,
          129.99,
          94.9,
          100.9,
          109.9,
          109.9,
          98.9,
          98.9,
          98.9,
          98.9,
          90.534,
          84.75608696,
          87.5,
          94,
          73,
          66.34214286,
          79.9,
          19.9,
          19.9,
          19.9,
          20.66666667,
          24.5,
          24.5,
          27.03333333,
          32.5,
          32.74285714,
          34.2,
          349.9,
          349.9,
          349.9,
          349.9,
          349.9,
          349.9,
          349.9,
          349.9,
          349.9,
          349.9,
          322.1363636,
          349.9,
          349.9,
          349.9,
          349.9,
          349.9,
          352.25,
          364,
          364,
          364,
          239.9,
          239.9,
          229.9,
          204.6181818,
          167.5,
          150.3423077,
          145.1666667,
          152.6333333,
          157.1428571,
          157.9454545,
          99.9,
          99.9,
          99.9,
          99.9,
          99.9,
          99.9,
          99.9,
          99.9,
          78.53571429,
          83.83333333,
          229.9,
          219.06,
          216.15,
          203.2909091,
          224.5428571,
          220.77,
          205.6857143,
          216.1875,
          204.3846154,
          199,
          64.99,
          64.99,
          64.99,
          64.99,
          64.99,
          58.79952381,
          59.25666667,
          58.99,
          58.99,
          58.99,
          58.99,
          58.99,
          58.99,
          58.99,
          58.99,
          58.99,
          58.99,
          58.99,
          58.99,
          58.99,
          99,
          99,
          99,
          98.3,
          92,
          92,
          90.875,
          88.24,
          84.9,
          84.9,
          84.9,
          99.99,
          99.99,
          96.65666667,
          109.99,
          119.99,
          120,
          104.25,
          92.594,
          89.99,
          89.99,
          123.3316667,
          120,
          113.3333333,
          110,
          110,
          96.65666667,
          99.99,
          99.99,
          89.9,
          89.9,
          89.9,
          89.9,
          89.9,
          89.9,
          89.9,
          89.9,
          89.9,
          89.9,
          88.48823529,
          86.9,
          86.9,
          86.9,
          85.045,
          83.64961538,
          79.9,
          77.93333333,
          74,
          38.4,
          38.4,
          38.4,
          34.58117647,
          38.4,
          38.4,
          38.4,
          35.48571429,
          35,
          35,
          35,
          35,
          108,
          108,
          108,
          108,
          105.6428571,
          105,
          105,
          105,
          105,
          105,
          78,
          78,
          78,
          78,
          78,
          78,
          78,
          78,
          78,
          78,
          78,
          78,
          78,
          78,
          77.82142857,
          75,
          75,
          75,
          75,
          75,
          69.9953271,
          69.9,
          69.9,
          69.9,
          69.9,
          89.9,
          89.9,
          103.2333333,
          59.9,
          59.9,
          59.9,
          59.9,
          59.9,
          59.9,
          59.9,
          54.45,
          49.9,
          49.9,
          51.23333333,
          53.9,
          53.9,
          49.9,
          49.9,
          49.9,
          49.9,
          38.4,
          38.4,
          38.4,
          38.4,
          36.85428571,
          38.4,
          38.4,
          35.48571429,
          35,
          35,
          35,
          35,
          35,
          325,
          325,
          325,
          325,
          325,
          325,
          325,
          325.8928571,
          330,
          330,
          330,
          330,
          330,
          99.99,
          99.99,
          109.99,
          109.99,
          120,
          120,
          102.5,
          95.29,
          89.99,
          89.99,
          127.7272727,
          120,
          110,
          110,
          110,
          89.99,
          99.99,
          98.32333333,
          85.70428571,
          99.99,
          99.99,
          99.99,
          99.99,
          99.99,
          99.99,
          99.99,
          99.99,
          99.99,
          99.99,
          99.99,
          99.99,
          99.99,
          89.86333333,
          159.99,
          159.99,
          139.99,
          159.99,
          139.99,
          145.7042857,
          151.99,
          154.6958824,
          149.99,
          149.99,
          156.5113514,
          149,
          136.1428571,
          120.9230769,
          119,
          114.4911538,
          119.99,
          119.99,
          339,
          339,
          346.158,
          345.7066667,
          348.8,
          339.9,
          347,
          307.8333333,
          280.6666667,
          258.9695652,
          245.9,
          169.3493182,
          178.0571429,
          149.8525,
          146.6,
          144.96,
          138.59,
          137.9,
          137.9,
          134.9,
          133,
          132.97,
          29.9,
          29.9,
          29.9,
          29.9,
          29.9,
          29.9,
          29.9,
          29.9,
          29.9,
          29.9,
          29.9,
          241.006,
          255.61,
          185,
          197.383,
          179.9,
          164.57,
          232.49,
          174.4333333,
          185.96,
          199,
          182,
          151.8784375,
          150.1333333,
          132.53125,
          138.22,
          155,
          145.5509091,
          109.9,
          109.9,
          97.6425,
          78.7122807,
          81.02391304,
          80.66666667,
          79.8,
          78.9,
          77.9,
          77.9,
          45.9,
          44.15444444,
          45.9,
          45.9,
          45.9,
          47.9,
          47.9,
          47.9,
          47.9,
          47.9,
          215,
          209,
          205,
          199.5098039,
          163.3987097
         ],
         "y": [
          45.83080000000001,
          45.95000000000001,
          46.2310181816,
          45.3302727272,
          45.83080000000001,
          45.592400000000005,
          41.858709089600026,
          41.34454545440001,
          39.900000000000006,
          40.22840000000001,
          39.94500000000001,
          40.34760000000001,
          40.183400000000006,
          41.64380000000001,
          63.991309523199945,
          39.5992,
          77.24892941120002,
          88.97052940939997,
          97.56774845599995,
          90.2783411768,
          94.64009411679999,
          97.7415647034,
          98.60509803859999,
          98.54672470559998,
          97.47229803899998,
          97.62389803899998,
          99.57979999979997,
          100.56,
          101.22813333260001,
          101.0899960782,
          23.3746571432,
          20.60009100499999,
          21.405980952399997,
          21.615504760400007,
          25.5488857138,
          23.729314285599997,
          32.3089428572,
          33.2931238094,
          32.59882857320002,
          34.44713333320003,
          35.61437142880003,
          47.784142857200024,
          59.50000000000006,
          59.202000000000055,
          59.900000000000055,
          59.900000000000055,
          59.900000000000055,
          59.558444444400045,
          53.236906340600015,
          56.136666668400004,
          50.27666666640004,
          51.23572778700003,
          53.740000000000045,
          53.82000000000004,
          52.791629073400024,
          49.90020000000004,
          49.98020000000004,
          49.90060000000004,
          21.826533333400004,
          20.646257142800003,
          21.048542857200005,
          20.372748148200007,
          20.638548148200005,
          20.971244444600007,
          23.093385187000003,
          23.483333333800005,
          23.82100317480001,
          24.633192592800004,
          24.030800000000003,
          23.997214814800003,
          23.830000000000005,
          24.260114285600004,
          23.868200000000005,
          24.42654814820001,
          38.71028571440001,
          25.63874814820001,
          136.29045999999985,
          133.61994999999987,
          151.07622676799988,
          158.4916390719999,
          165.46353535599988,
          164.8302497739999,
          168.45721817999987,
          166.99744375999998,
          170.27254337379992,
          114.23159120599989,
          118.25169556399987,
          115.2949690619999,
          116.866403468,
          119.54824614999988,
          121.99281025399989,
          121.88208810799988,
          122.49153845999986,
          55.44839999999995,
          55.346399999999946,
          56.709999999999944,
          56.43999999999995,
          56.29999999999995,
          57.44659999999995,
          57.49499999999995,
          55.17999999999994,
          54.788399999999946,
          51.81999999999996,
          50.42134285719996,
          51.81999999999996,
          51.38134285719996,
          102.2391999999999,
          105.32933803919988,
          99.6777809525999,
          99.52445714319991,
          98.84158999979991,
          99.57747238059996,
          98.88346999999989,
          100.69317999999988,
          99.21505999999991,
          103.3212654539999,
          98.75672878659991,
          97.74922666660007,
          90.86414333340002,
          89.1679142855999,
          89.24662857139988,
          89.04662857139989,
          90.06319999999988,
          90.7775942853999,
          91.1100857139999,
          91.1100857139999,
          91.23239220739988,
          89.18999999999988,
          88.88675999999988,
          87.22587999999989,
          83.59055501519991,
          81.2466285713999,
          86.51802532519989,
          80.50171428559992,
          82.7964571427999,
          82.99548571340002,
          59.900000000000055,
          59.900000000000055,
          59.900000000000055,
          59.712903225800055,
          53.807073340600034,
          55.46732583979999,
          49.96785253460004,
          50.533306453600005,
          53.762046083000044,
          53.82914285720005,
          53.17364775859999,
          49.90060000000004,
          49.980800000000045,
          49.90100000000004,
          145.03999999999996,
          124.68399999999993,
          93.35648879720002,
          81.82713500520006,
          86.73272318840002,
          86.9755550726,
          90.05404285799999,
          79.19701904780005,
          59.80200000000005,
          59.900000000000055,
          59.900000000000055,
          59.900000000000055,
          59.900000000000055,
          59.540000000000056,
          55.62620297199998,
          55.85005555600002,
          50.17230075200005,
          50.78435253500003,
          53.82000000000004,
          53.82000000000004,
          53.38188425720002,
          49.90020000000004,
          49.90020000000004,
          49.90040000000003,
          149.32284921200002,
          148.06195544399992,
          150.5047870159999,
          153.02379999999985,
          140.2499072419999,
          152.71262580599986,
          150.7254692299999,
          140.69067272799987,
          66.71891428599994,
          65.68391428599993,
          64.78999999999992,
          64.76999999999992,
          66.78819999999992,
          66.70999999999992,
          66.3970428571999,
          59.900000000000055,
          59.48680000000006,
          59.900000000000055,
          59.900000000000055,
          59.900000000000055,
          59.900000000000055,
          52.77616332460003,
          55.79601490779997,
          49.708866666600045,
          50.68869815680001,
          54.082500000000046,
          54.22376395560005,
          53.25879564200003,
          50.60266666660002,
          49.98620000000002,
          49.96900000000001,
          50.99582029379997,
          52.18880079679998,
          54.69955466820001,
          52.60691041339997,
          53.03502797940002,
          54.01361647100002,
          52.03159982320001,
          157.5681745459999,
          166.68275480600005,
          165.9446114279999,
          155.13720856999987,
          150.38824000000002,
          139.49147446000006,
          150.09269844199997,
          144.55855171999997,
          141.7609588719999,
          129.320114308,
          123.36852304399991,
          129.00645238199996,
          139.14532207799994,
          134.5080419619999,
          140.719933334,
          84.9899999999999,
          84.9899999999999,
          89.5947999999999,
          84.1581999999999,
          85.08999999999989,
          84.9899999999999,
          84.9899999999999,
          84.9899999999999,
          86.9301999999999,
          186.7321999999999,
          186.1099999999999,
          181.92351999999985,
          182.12279999999984,
          180.06545774399987,
          181.7412495179999,
          184.57827399000004,
          179.122764838,
          171.00619954599998,
          175.31291456199997,
          177.587226548,
          156.598066188,
          149.82226385599998,
          147.95657203,
          59.48680000000006,
          59.62100000000005,
          59.48680000000006,
          59.900000000000055,
          59.900000000000055,
          59.900000000000055,
          59.900000000000055,
          53.375614843600026,
          55.68078852919998,
          50.08060322580003,
          50.934338897200035,
          54.06403333340004,
          53.78020000000004,
          52.69521132639998,
          49.98060000000004,
          49.98060000000004,
          49.90300000000003,
          159.49566481600002,
          160.19374028800013,
          156.10977380600008,
          149.71459382600008,
          138.82970409399996,
          135.461342888,
          147.820944156,
          122.76414210999992,
          124.87326688000006,
          108.74066437599993,
          108.82991746600003,
          127.92040935799997,
          120.45767948800003,
          122.55844248399998,
          37.66000000000001,
          33.672000000000004,
          36.52,
          36.834,
          42.4401904762,
          55.04600000000001,
          60.00266666600001,
          143.512579222,
          140.96894285599998,
          141.156068398,
          127.46981818200005,
          125.465801038,
          119.17795223999993,
          118.37126984799997,
          123.56168888999993,
          131.629289324,
          122.15230944399993,
          118.98809017399992,
          121.1306549799999,
          118.92240887999998,
          130.58270649399986,
          128.22874999999985,
          128.22069999999985,
          128.92694999999986,
          129.16749999999985,
          121.25249999999986,
          121.82634999999986,
          128.32874999999984,
          125.61459999999987,
          128.02589999999987,
          126.24159230759987,
          129.92656363599986,
          123.57971666659986,
          96.08,
          98.85084285719999,
          107.97999999999996,
          106.71199999999997,
          100.942,
          107.07520649319997,
          102.76399999999998,
          111.53399999999996,
          90.16993097040002,
          85.23938901800005,
          86.9919265012,
          89.12217474959999,
          77.78929792980001,
          77.311716358,
          87.27733602520004,
          23.0797047618,
          19.964933333599987,
          20.32732380979999,
          21.36664762060001,
          23.656519577000005,
          23.6481904764,
          28.432476188200003,
          31.847809523400006,
          31.366285712800018,
          32.526000000000025,
          349.89999999999986,
          349.89999999999986,
          350.1819999999999,
          335.22316256619985,
          350.1819999999999,
          349.4019999999999,
          350.7459999999999,
          351.30999999999983,
          350.18199999999985,
          350.5387272719999,
          332.942836344,
          348.0269090879998,
          351.1777272719999,
          350.68572727199995,
          351.7504545439999,
          350.7459999999999,
          353.80972727200003,
          358.603727272,
          360.62472727200003,
          360.099,
          229.7678363599998,
          230.5162753219998,
          216.73850215999988,
          195.75367371200008,
          169.37602629,
          163.5835988119999,
          158.21094306999993,
          162.2589284800001,
          158.18139947599994,
          172.10411165199994,
          98.55925333319999,
          100.62586666659998,
          100.17835974039997,
          99.40177619059999,
          99.55810095179999,
          98.5258228574,
          99.43434666659998,
          96.82427142880005,
          84.94010714560008,
          90.23516190140006,
          223.80227532199984,
          219.82694945,
          213.35713809519984,
          203.32695859800006,
          213.17430445999995,
          213.20997186120022,
          208.13835650199997,
          200.93273997600002,
          195.85646013000004,
          186.807629704,
          64.75353333339991,
          64.98999999999992,
          65.44173333339992,
          65.48999999999992,
          63.76024761919994,
          60.59635990060002,
          59.60192381179999,
          59.38215989979995,
          60.17883609019994,
          61.35164285739993,
          59.419036363599936,
          59.09787272779994,
          60.801733333399945,
          61.45250952399994,
          59.109999999999935,
          59.109999999999935,
          58.80619047619994,
          58.98999999999994,
          58.80619047619994,
          58.80619047619994,
          98.0283,
          97.6762923076,
          97.7241647058,
          95.24735000000005,
          91.3985944444,
          90.78880000000001,
          90.42178571420001,
          87.52664615319995,
          87.08410000000002,
          81.99799999960005,
          85.58040000000003,
          110.4430666667999,
          97.1522789915999,
          104.7081166682,
          110.79039999999986,
          113.29993333339988,
          116.58653333339997,
          106.3646,
          95.93152,
          91.91581212059988,
          94.2552799999999,
          120.32879577199996,
          114.68582581659999,
          111.030212098,
          109.0350980358,
          109.84626666599999,
          98.70994666779998,
          102.72393333199987,
          101.68326666659986,
          87.5589313724,
          88.82733333320002,
          89.80736666660003,
          89.90000000000002,
          89.90000000000002,
          90.00470000000003,
          89.90000000000002,
          90.19082352900001,
          91.5637921564,
          90.50351402680003,
          90.0884705856,
          86.56781904740002,
          86.31260170180002,
          86.45611904720005,
          86.33426666660006,
          85.71334615079996,
          82.03565897420005,
          78.90981904500006,
          77.90129230740001,
          41.330551261600014,
          40.89994285800003,
          41.72952773200002,
          35.41725714219999,
          41.205169748800024,
          39.46980806780004,
          43.69577142960003,
          35.97142857400002,
          35.446857143200006,
          36.326564706000006,
          41.773030952400006,
          41.30618095240001,
          106.5598,
          105.490657142,
          108.75885714200001,
          106.753357142,
          105.56571426,
          101.8381686266,
          103.32848571240001,
          105.29142856800001,
          105.26999999399999,
          105.0784666666,
          77.4592,
          77.9796,
          77.9796,
          82.4977904762,
          78.23265714280001,
          80.0090857142,
          77.75562857139998,
          78.27245714280001,
          78,
          77.49699999999999,
          77.8778,
          77.9456571428,
          78.0742285714,
          79.50369319619999,
          78.38674285640002,
          76.6936,
          76.21579999860002,
          75.78333333200001,
          74.15476562500001,
          76.058373208,
          71.63334921999999,
          69.90639191700004,
          71.69975654200006,
          67.95020957240006,
          68.43308709320004,
          92.47984999400002,
          95.48779999199998,
          98.06968483,
          59.900000000000055,
          60.70180000000005,
          59.900000000000055,
          59.900000000000055,
          59.900000000000055,
          59.32200000000005,
          59.900000000000055,
          55.7857709328,
          52.07822222280003,
          50.99266666640005,
          51.250761903000004,
          53.96200000000005,
          53.882000000000055,
          50.72596491260003,
          49.90020000000004,
          49.90020000000004,
          49.90040000000005,
          38.301085714200035,
          38.13417142840003,
          39.589771428400034,
          37.72348571360003,
          36.54620840040004,
          39.11331428580004,
          55.013133335200045,
          36.69371428880002,
          35.69234285740001,
          35.61200000000001,
          36.543800000000005,
          37.01980000000001,
          36.1923142858,
          325.6,
          321.4895,
          325,
          317.71005290600004,
          320.6,
          323.771571426,
          308.52910408199995,
          311.9833629619999,
          320.712354034,
          316.674585286,
          323.089857142,
          329.68,
          322.609687012,
          106.85666666679988,
          100.0125833333999,
          109.08337333319987,
          107.6291999999999,
          117.61733333339998,
          114.16899999979998,
          103.2907733332,
          97.50575333399996,
          96.1427999999999,
          95.14682307599989,
          124.59363756199997,
          118.08754969599998,
          109.887278782,
          108.97959999999999,
          110.21366666659998,
          94.19080000019989,
          101.4756980389999,
          101.6574666644,
          88.96528571039997,
          99.8465999999999,
          99.78819999999989,
          98.94479999999989,
          102.38639999999988,
          102.58819999999989,
          100.11426666659989,
          100.05189523859988,
          101.12039999999988,
          99.98999999999987,
          99.98999999999987,
          97.08115578939989,
          98.24657694219988,
          94.78037142799991,
          92.82281904539995,
          155.01491274199986,
          157.07471274199986,
          143.60186512259986,
          155.00803193199988,
          131.0847366953999,
          145.9355462099999,
          149.88769579999985,
          147.580162384,
          143.6013058879999,
          140.8346722905999,
          151.24704038000013,
          141.05175798,
          133.52779100599994,
          128.09826062999994,
          129.17000377,
          119.25983622799995,
          118.95602430399987,
          123.58789580019992,
          337.846551304,
          340.28574666799994,
          330.11056927799984,
          329.43667565599986,
          342.7846979739998,
          328.8070443359998,
          318.34803879,
          296.08327877199986,
          284.68895910800023,
          274.7717788199997,
          273.7619196979998,
          217.58453755600007,
          162.97742860040006,
          142.9440690492,
          135.51872101020007,
          140.39932143200002,
          140.75930000000005,
          138.36074285799995,
          139.5149357159999,
          136.64199999999994,
          140.7528071462,
          121.54824753640001,
          30.983600000000024,
          32.06720000000003,
          29.90000000000002,
          29.90000000000002,
          29.90000000000002,
          30.30180000000002,
          29.90000000000002,
          29.90000000000002,
          30.30180000000002,
          29.90000000000002,
          29.90000000000002,
          225.54046136400004,
          235.57035999999997,
          189.54666107799991,
          190.6394636359999,
          186.54185425999987,
          167.77010127199992,
          209.96001818199989,
          174.72690985800003,
          190.82854666599994,
          186.661948052,
          178.763759786,
          159.48689337599987,
          159.61432579800007,
          140.274289582,
          146.44399859000004,
          158.15227166600005,
          151.65261708000006,
          118.33199999999995,
          102.88813333339996,
          92.74954582359999,
          81.98816541580003,
          84.4020700052,
          86.86682532659998,
          81.32670858120007,
          79.45914492780004,
          78.75526466180004,
          80.86284285720006,
          46.417622221600034,
          46.141911107999995,
          46.26508888880004,
          46.492533332800036,
          46.065088888800034,
          48.387088888800044,
          58.11899047600005,
          47.625088888800036,
          48.46400000000004,
          72.13098636400007,
          179.73003823399995,
          192.96258883399997,
          196.27356024199997,
          194.0613784880001,
          170.37908464199995
         ]
        },
        {
         "marker": {
          "color": "lightcoral"
         },
         "mode": "lines",
         "name": "Ideal Prediction",
         "type": "scatter",
         "x": [
          19.9,
          364
         ],
         "y": [
          19.9,
          364
         ]
        }
       ],
       "layout": {
        "template": {
         "data": {
          "bar": [
           {
            "error_x": {
             "color": "#2a3f5f"
            },
            "error_y": {
             "color": "#2a3f5f"
            },
            "marker": {
             "line": {
              "color": "white",
              "width": 0.5
             },
             "pattern": {
              "fillmode": "overlay",
              "size": 10,
              "solidity": 0.2
             }
            },
            "type": "bar"
           }
          ],
          "barpolar": [
           {
            "marker": {
             "line": {
              "color": "white",
              "width": 0.5
             },
             "pattern": {
              "fillmode": "overlay",
              "size": 10,
              "solidity": 0.2
             }
            },
            "type": "barpolar"
           }
          ],
          "carpet": [
           {
            "aaxis": {
             "endlinecolor": "#2a3f5f",
             "gridcolor": "#C8D4E3",
             "linecolor": "#C8D4E3",
             "minorgridcolor": "#C8D4E3",
             "startlinecolor": "#2a3f5f"
            },
            "baxis": {
             "endlinecolor": "#2a3f5f",
             "gridcolor": "#C8D4E3",
             "linecolor": "#C8D4E3",
             "minorgridcolor": "#C8D4E3",
             "startlinecolor": "#2a3f5f"
            },
            "type": "carpet"
           }
          ],
          "choropleth": [
           {
            "colorbar": {
             "outlinewidth": 0,
             "ticks": ""
            },
            "type": "choropleth"
           }
          ],
          "contour": [
           {
            "colorbar": {
             "outlinewidth": 0,
             "ticks": ""
            },
            "colorscale": [
             [
              0,
              "#0d0887"
             ],
             [
              0.1111111111111111,
              "#46039f"
             ],
             [
              0.2222222222222222,
              "#7201a8"
             ],
             [
              0.3333333333333333,
              "#9c179e"
             ],
             [
              0.4444444444444444,
              "#bd3786"
             ],
             [
              0.5555555555555556,
              "#d8576b"
             ],
             [
              0.6666666666666666,
              "#ed7953"
             ],
             [
              0.7777777777777778,
              "#fb9f3a"
             ],
             [
              0.8888888888888888,
              "#fdca26"
             ],
             [
              1,
              "#f0f921"
             ]
            ],
            "type": "contour"
           }
          ],
          "contourcarpet": [
           {
            "colorbar": {
             "outlinewidth": 0,
             "ticks": ""
            },
            "type": "contourcarpet"
           }
          ],
          "heatmap": [
           {
            "colorbar": {
             "outlinewidth": 0,
             "ticks": ""
            },
            "colorscale": [
             [
              0,
              "#0d0887"
             ],
             [
              0.1111111111111111,
              "#46039f"
             ],
             [
              0.2222222222222222,
              "#7201a8"
             ],
             [
              0.3333333333333333,
              "#9c179e"
             ],
             [
              0.4444444444444444,
              "#bd3786"
             ],
             [
              0.5555555555555556,
              "#d8576b"
             ],
             [
              0.6666666666666666,
              "#ed7953"
             ],
             [
              0.7777777777777778,
              "#fb9f3a"
             ],
             [
              0.8888888888888888,
              "#fdca26"
             ],
             [
              1,
              "#f0f921"
             ]
            ],
            "type": "heatmap"
           }
          ],
          "heatmapgl": [
           {
            "colorbar": {
             "outlinewidth": 0,
             "ticks": ""
            },
            "colorscale": [
             [
              0,
              "#0d0887"
             ],
             [
              0.1111111111111111,
              "#46039f"
             ],
             [
              0.2222222222222222,
              "#7201a8"
             ],
             [
              0.3333333333333333,
              "#9c179e"
             ],
             [
              0.4444444444444444,
              "#bd3786"
             ],
             [
              0.5555555555555556,
              "#d8576b"
             ],
             [
              0.6666666666666666,
              "#ed7953"
             ],
             [
              0.7777777777777778,
              "#fb9f3a"
             ],
             [
              0.8888888888888888,
              "#fdca26"
             ],
             [
              1,
              "#f0f921"
             ]
            ],
            "type": "heatmapgl"
           }
          ],
          "histogram": [
           {
            "marker": {
             "pattern": {
              "fillmode": "overlay",
              "size": 10,
              "solidity": 0.2
             }
            },
            "type": "histogram"
           }
          ],
          "histogram2d": [
           {
            "colorbar": {
             "outlinewidth": 0,
             "ticks": ""
            },
            "colorscale": [
             [
              0,
              "#0d0887"
             ],
             [
              0.1111111111111111,
              "#46039f"
             ],
             [
              0.2222222222222222,
              "#7201a8"
             ],
             [
              0.3333333333333333,
              "#9c179e"
             ],
             [
              0.4444444444444444,
              "#bd3786"
             ],
             [
              0.5555555555555556,
              "#d8576b"
             ],
             [
              0.6666666666666666,
              "#ed7953"
             ],
             [
              0.7777777777777778,
              "#fb9f3a"
             ],
             [
              0.8888888888888888,
              "#fdca26"
             ],
             [
              1,
              "#f0f921"
             ]
            ],
            "type": "histogram2d"
           }
          ],
          "histogram2dcontour": [
           {
            "colorbar": {
             "outlinewidth": 0,
             "ticks": ""
            },
            "colorscale": [
             [
              0,
              "#0d0887"
             ],
             [
              0.1111111111111111,
              "#46039f"
             ],
             [
              0.2222222222222222,
              "#7201a8"
             ],
             [
              0.3333333333333333,
              "#9c179e"
             ],
             [
              0.4444444444444444,
              "#bd3786"
             ],
             [
              0.5555555555555556,
              "#d8576b"
             ],
             [
              0.6666666666666666,
              "#ed7953"
             ],
             [
              0.7777777777777778,
              "#fb9f3a"
             ],
             [
              0.8888888888888888,
              "#fdca26"
             ],
             [
              1,
              "#f0f921"
             ]
            ],
            "type": "histogram2dcontour"
           }
          ],
          "mesh3d": [
           {
            "colorbar": {
             "outlinewidth": 0,
             "ticks": ""
            },
            "type": "mesh3d"
           }
          ],
          "parcoords": [
           {
            "line": {
             "colorbar": {
              "outlinewidth": 0,
              "ticks": ""
             }
            },
            "type": "parcoords"
           }
          ],
          "pie": [
           {
            "automargin": true,
            "type": "pie"
           }
          ],
          "scatter": [
           {
            "marker": {
             "colorbar": {
              "outlinewidth": 0,
              "ticks": ""
             }
            },
            "type": "scatter"
           }
          ],
          "scatter3d": [
           {
            "line": {
             "colorbar": {
              "outlinewidth": 0,
              "ticks": ""
             }
            },
            "marker": {
             "colorbar": {
              "outlinewidth": 0,
              "ticks": ""
             }
            },
            "type": "scatter3d"
           }
          ],
          "scattercarpet": [
           {
            "marker": {
             "colorbar": {
              "outlinewidth": 0,
              "ticks": ""
             }
            },
            "type": "scattercarpet"
           }
          ],
          "scattergeo": [
           {
            "marker": {
             "colorbar": {
              "outlinewidth": 0,
              "ticks": ""
             }
            },
            "type": "scattergeo"
           }
          ],
          "scattergl": [
           {
            "marker": {
             "colorbar": {
              "outlinewidth": 0,
              "ticks": ""
             }
            },
            "type": "scattergl"
           }
          ],
          "scattermapbox": [
           {
            "marker": {
             "colorbar": {
              "outlinewidth": 0,
              "ticks": ""
             }
            },
            "type": "scattermapbox"
           }
          ],
          "scatterpolar": [
           {
            "marker": {
             "colorbar": {
              "outlinewidth": 0,
              "ticks": ""
             }
            },
            "type": "scatterpolar"
           }
          ],
          "scatterpolargl": [
           {
            "marker": {
             "colorbar": {
              "outlinewidth": 0,
              "ticks": ""
             }
            },
            "type": "scatterpolargl"
           }
          ],
          "scatterternary": [
           {
            "marker": {
             "colorbar": {
              "outlinewidth": 0,
              "ticks": ""
             }
            },
            "type": "scatterternary"
           }
          ],
          "surface": [
           {
            "colorbar": {
             "outlinewidth": 0,
             "ticks": ""
            },
            "colorscale": [
             [
              0,
              "#0d0887"
             ],
             [
              0.1111111111111111,
              "#46039f"
             ],
             [
              0.2222222222222222,
              "#7201a8"
             ],
             [
              0.3333333333333333,
              "#9c179e"
             ],
             [
              0.4444444444444444,
              "#bd3786"
             ],
             [
              0.5555555555555556,
              "#d8576b"
             ],
             [
              0.6666666666666666,
              "#ed7953"
             ],
             [
              0.7777777777777778,
              "#fb9f3a"
             ],
             [
              0.8888888888888888,
              "#fdca26"
             ],
             [
              1,
              "#f0f921"
             ]
            ],
            "type": "surface"
           }
          ],
          "table": [
           {
            "cells": {
             "fill": {
              "color": "#EBF0F8"
             },
             "line": {
              "color": "white"
             }
            },
            "header": {
             "fill": {
              "color": "#C8D4E3"
             },
             "line": {
              "color": "white"
             }
            },
            "type": "table"
           }
          ]
         },
         "layout": {
          "annotationdefaults": {
           "arrowcolor": "#2a3f5f",
           "arrowhead": 0,
           "arrowwidth": 1
          },
          "autotypenumbers": "strict",
          "coloraxis": {
           "colorbar": {
            "outlinewidth": 0,
            "ticks": ""
           }
          },
          "colorscale": {
           "diverging": [
            [
             0,
             "#8e0152"
            ],
            [
             0.1,
             "#c51b7d"
            ],
            [
             0.2,
             "#de77ae"
            ],
            [
             0.3,
             "#f1b6da"
            ],
            [
             0.4,
             "#fde0ef"
            ],
            [
             0.5,
             "#f7f7f7"
            ],
            [
             0.6,
             "#e6f5d0"
            ],
            [
             0.7,
             "#b8e186"
            ],
            [
             0.8,
             "#7fbc41"
            ],
            [
             0.9,
             "#4d9221"
            ],
            [
             1,
             "#276419"
            ]
           ],
           "sequential": [
            [
             0,
             "#0d0887"
            ],
            [
             0.1111111111111111,
             "#46039f"
            ],
            [
             0.2222222222222222,
             "#7201a8"
            ],
            [
             0.3333333333333333,
             "#9c179e"
            ],
            [
             0.4444444444444444,
             "#bd3786"
            ],
            [
             0.5555555555555556,
             "#d8576b"
            ],
            [
             0.6666666666666666,
             "#ed7953"
            ],
            [
             0.7777777777777778,
             "#fb9f3a"
            ],
            [
             0.8888888888888888,
             "#fdca26"
            ],
            [
             1,
             "#f0f921"
            ]
           ],
           "sequentialminus": [
            [
             0,
             "#0d0887"
            ],
            [
             0.1111111111111111,
             "#46039f"
            ],
            [
             0.2222222222222222,
             "#7201a8"
            ],
            [
             0.3333333333333333,
             "#9c179e"
            ],
            [
             0.4444444444444444,
             "#bd3786"
            ],
            [
             0.5555555555555556,
             "#d8576b"
            ],
            [
             0.6666666666666666,
             "#ed7953"
            ],
            [
             0.7777777777777778,
             "#fb9f3a"
            ],
            [
             0.8888888888888888,
             "#fdca26"
            ],
            [
             1,
             "#f0f921"
            ]
           ]
          },
          "colorway": [
           "#636efa",
           "#EF553B",
           "#00cc96",
           "#ab63fa",
           "#FFA15A",
           "#19d3f3",
           "#FF6692",
           "#B6E880",
           "#FF97FF",
           "#FECB52"
          ],
          "font": {
           "color": "#2a3f5f"
          },
          "geo": {
           "bgcolor": "white",
           "lakecolor": "white",
           "landcolor": "white",
           "showlakes": true,
           "showland": true,
           "subunitcolor": "#C8D4E3"
          },
          "hoverlabel": {
           "align": "left"
          },
          "hovermode": "closest",
          "mapbox": {
           "style": "light"
          },
          "paper_bgcolor": "white",
          "plot_bgcolor": "white",
          "polar": {
           "angularaxis": {
            "gridcolor": "#EBF0F8",
            "linecolor": "#EBF0F8",
            "ticks": ""
           },
           "bgcolor": "white",
           "radialaxis": {
            "gridcolor": "#EBF0F8",
            "linecolor": "#EBF0F8",
            "ticks": ""
           }
          },
          "scene": {
           "xaxis": {
            "backgroundcolor": "white",
            "gridcolor": "#DFE8F3",
            "gridwidth": 2,
            "linecolor": "#EBF0F8",
            "showbackground": true,
            "ticks": "",
            "zerolinecolor": "#EBF0F8"
           },
           "yaxis": {
            "backgroundcolor": "white",
            "gridcolor": "#DFE8F3",
            "gridwidth": 2,
            "linecolor": "#EBF0F8",
            "showbackground": true,
            "ticks": "",
            "zerolinecolor": "#EBF0F8"
           },
           "zaxis": {
            "backgroundcolor": "white",
            "gridcolor": "#DFE8F3",
            "gridwidth": 2,
            "linecolor": "#EBF0F8",
            "showbackground": true,
            "ticks": "",
            "zerolinecolor": "#EBF0F8"
           }
          },
          "shapedefaults": {
           "line": {
            "color": "#2a3f5f"
           }
          },
          "ternary": {
           "aaxis": {
            "gridcolor": "#DFE8F3",
            "linecolor": "#A2B1C6",
            "ticks": ""
           },
           "baxis": {
            "gridcolor": "#DFE8F3",
            "linecolor": "#A2B1C6",
            "ticks": ""
           },
           "bgcolor": "white",
           "caxis": {
            "gridcolor": "#DFE8F3",
            "linecolor": "#A2B1C6",
            "ticks": ""
           }
          },
          "title": {
           "x": 0.05
          },
          "xaxis": {
           "automargin": true,
           "gridcolor": "#EBF0F8",
           "linecolor": "#EBF0F8",
           "ticks": "",
           "title": {
            "standoff": 15
           },
           "zerolinecolor": "#EBF0F8",
           "zerolinewidth": 2
          },
          "yaxis": {
           "automargin": true,
           "gridcolor": "#EBF0F8",
           "linecolor": "#EBF0F8",
           "ticks": "",
           "title": {
            "standoff": 15
           },
           "zerolinecolor": "#EBF0F8",
           "zerolinewidth": 2
          }
         }
        },
        "title": {
         "text": "Predicted vs. Actual Retail Price"
        },
        "xaxis": {
         "title": {
          "text": "Actual Retail Price"
         }
        },
        "yaxis": {
         "title": {
          "text": "Predicted Retail Price"
         }
        }
       }
      },
      "text/html": [
       "<div>                            <div id=\"cae47392-bf40-4bb1-9725-035114e17305\" class=\"plotly-graph-div\" style=\"height:525px; width:100%;\"></div>            <script type=\"text/javascript\">                require([\"plotly\"], function(Plotly) {                    window.PLOTLYENV=window.PLOTLYENV || {};                                    if (document.getElementById(\"cae47392-bf40-4bb1-9725-035114e17305\")) {                    Plotly.newPlot(                        \"cae47392-bf40-4bb1-9725-035114e17305\",                        [{\"marker\":{\"color\":\"indigo\"},\"mode\":\"markers\",\"name\":\"Predicted vs. Actual Retail Unit Price\",\"x\":[45.95,45.95,45.95,45.95,45.95,45.95,40.53181818,39.99,39.99,39.99,39.99,39.99,39.99,39.99,39.99,39.24,69.9,82.63333333,97.58823529,89.0,89.0,97.33333333,99.0,99.0,99.0,99.0,99.5,101.0,101.0,101.0,19.9,19.9,19.9,21.54285714,24.5,24.5,32.5,32.5,35.05714286,36.2,36.2,36.2,59.9,59.9,59.9,59.9,59.9,59.9,51.32222222,56.97777778,49.9,51.4,53.9,53.9,52.9,49.9,49.9,49.9,19.99,19.99,19.99,19.99,19.99,19.99,23.39740741,23.99,23.99,23.99,23.99,23.99,23.99,23.99,23.99,23.99,23.99,23.99,134.99,134.99,146.99,157.3603704,166.99,166.99,176.99,173.8081818,169.99,110.99,110.99,110.99,116.5284615,119.99,122.99,122.99,122.99,56.99,56.99,56.99,56.99,56.99,56.99,56.99,56.99,56.99,50.49,49.99,49.99,49.99,99.99,99.99,99.99,99.99,99.99,99.99,99.99,99.99,99.99,99.99,99.99,97.952,84.6925,89.99,89.99,89.99,89.99,89.99,89.99,89.99,89.99,89.99,89.99,89.99,83.74,79.99,79.99,79.99,79.99,82.82142857,59.9,59.9,59.9,59.9,53.78571429,55.75,49.9,50.35714286,53.9,53.9,53.05789474,49.9,49.9,49.9,167.0,119.9,93.09489362,77.155,88.0,88.0,89.9,78.9,59.9,59.9,59.9,59.9,59.9,59.9,53.64828125,55.425,49.9,50.9,53.9,53.9,53.70952381,49.9,49.9,49.9,150.3545455,149.9,149.9,149.9,149.9,149.9,149.9,149.9,61.99,61.99,64.99,64.99,66.99,66.99,66.99,59.9,59.9,59.9,59.9,59.9,59.9,52.40694444,55.1,49.9,50.54516129,53.9,53.9,53.41515152,49.9,49.91,49.91,47.35789474,48.45944444,53.70176471,52.06928571,49.98,51.512,50.71,157.99,171.792,169.9,160.4,149.475,140.56,149.0,148.5,145.9942857,123.9666667,119.19,118.1318182,139.9,138.98,138.0,84.99,84.99,84.99,84.99,84.99,84.99,84.99,84.99,84.99,179.99,179.99,179.99,179.99,179.99,183.99,187.8542857,179.0,175.1538462,179.0,179.0,159.0,139.0,139.0,59.9,59.9,59.9,59.9,59.9,59.9,59.9,53.37910448,55.77096774,49.9,51.025,53.9,53.9,52.56666667,49.9,49.9,49.9,163.0,161.5909091,160.6692308,148.7785714,134.9,133.0,149.0,128.2416667,117.4412903,105.648625,103.7925234,119.0,118.3636364,112.0,29.5,29.5,35.0,35.0,35.0,65.0,65.0,142.5,142.5,142.5,118.05,118.0,117.9,117.8888889,117.7,117.975,119.9,119.1785714,118.7,116.9066667,129.99,129.99,129.99,129.99,129.99,116.9275,119.99,129.99,129.99,129.99,129.99,129.99,129.99,94.9,100.9,109.9,109.9,98.9,98.9,98.9,98.9,90.534,84.75608696,87.5,94.0,73.0,66.34214286,79.9,19.9,19.9,19.9,20.66666667,24.5,24.5,27.03333333,32.5,32.74285714,34.2,349.9,349.9,349.9,349.9,349.9,349.9,349.9,349.9,349.9,349.9,322.1363636,349.9,349.9,349.9,349.9,349.9,352.25,364.0,364.0,364.0,239.9,239.9,229.9,204.6181818,167.5,150.3423077,145.1666667,152.6333333,157.1428571,157.9454545,99.9,99.9,99.9,99.9,99.9,99.9,99.9,99.9,78.53571429,83.83333333,229.9,219.06,216.15,203.2909091,224.5428571,220.77,205.6857143,216.1875,204.3846154,199.0,64.99,64.99,64.99,64.99,64.99,58.79952381,59.25666667,58.99,58.99,58.99,58.99,58.99,58.99,58.99,58.99,58.99,58.99,58.99,58.99,58.99,99.0,99.0,99.0,98.3,92.0,92.0,90.875,88.24,84.9,84.9,84.9,99.99,99.99,96.65666667,109.99,119.99,120.0,104.25,92.594,89.99,89.99,123.3316667,120.0,113.3333333,110.0,110.0,96.65666667,99.99,99.99,89.9,89.9,89.9,89.9,89.9,89.9,89.9,89.9,89.9,89.9,88.48823529,86.9,86.9,86.9,85.045,83.64961538,79.9,77.93333333,74.0,38.4,38.4,38.4,34.58117647,38.4,38.4,38.4,35.48571429,35.0,35.0,35.0,35.0,108.0,108.0,108.0,108.0,105.6428571,105.0,105.0,105.0,105.0,105.0,78.0,78.0,78.0,78.0,78.0,78.0,78.0,78.0,78.0,78.0,78.0,78.0,78.0,78.0,77.82142857,75.0,75.0,75.0,75.0,75.0,69.9953271,69.9,69.9,69.9,69.9,89.9,89.9,103.2333333,59.9,59.9,59.9,59.9,59.9,59.9,59.9,54.45,49.9,49.9,51.23333333,53.9,53.9,49.9,49.9,49.9,49.9,38.4,38.4,38.4,38.4,36.85428571,38.4,38.4,35.48571429,35.0,35.0,35.0,35.0,35.0,325.0,325.0,325.0,325.0,325.0,325.0,325.0,325.8928571,330.0,330.0,330.0,330.0,330.0,99.99,99.99,109.99,109.99,120.0,120.0,102.5,95.29,89.99,89.99,127.7272727,120.0,110.0,110.0,110.0,89.99,99.99,98.32333333,85.70428571,99.99,99.99,99.99,99.99,99.99,99.99,99.99,99.99,99.99,99.99,99.99,99.99,99.99,89.86333333,159.99,159.99,139.99,159.99,139.99,145.7042857,151.99,154.6958824,149.99,149.99,156.5113514,149.0,136.1428571,120.9230769,119.0,114.4911538,119.99,119.99,339.0,339.0,346.158,345.7066667,348.8,339.9,347.0,307.8333333,280.6666667,258.9695652,245.9,169.3493182,178.0571429,149.8525,146.6,144.96,138.59,137.9,137.9,134.9,133.0,132.97,29.9,29.9,29.9,29.9,29.9,29.9,29.9,29.9,29.9,29.9,29.9,241.006,255.61,185.0,197.383,179.9,164.57,232.49,174.4333333,185.96,199.0,182.0,151.8784375,150.1333333,132.53125,138.22,155.0,145.5509091,109.9,109.9,97.6425,78.7122807,81.02391304,80.66666667,79.8,78.9,77.9,77.9,45.9,44.15444444,45.9,45.9,45.9,47.9,47.9,47.9,47.9,47.9,215.0,209.0,205.0,199.5098039,163.3987097],\"y\":[45.83080000000001,45.95000000000001,46.2310181816,45.3302727272,45.83080000000001,45.592400000000005,41.858709089600026,41.34454545440001,39.900000000000006,40.22840000000001,39.94500000000001,40.34760000000001,40.183400000000006,41.64380000000001,63.991309523199945,39.5992,77.24892941120002,88.97052940939997,97.56774845599995,90.2783411768,94.64009411679999,97.7415647034,98.60509803859999,98.54672470559998,97.47229803899998,97.62389803899998,99.57979999979997,100.56,101.22813333260001,101.0899960782,23.3746571432,20.60009100499999,21.405980952399997,21.615504760400007,25.5488857138,23.729314285599997,32.3089428572,33.2931238094,32.59882857320002,34.44713333320003,35.61437142880003,47.784142857200024,59.50000000000006,59.202000000000055,59.900000000000055,59.900000000000055,59.900000000000055,59.558444444400045,53.236906340600015,56.136666668400004,50.27666666640004,51.23572778700003,53.740000000000045,53.82000000000004,52.791629073400024,49.90020000000004,49.98020000000004,49.90060000000004,21.826533333400004,20.646257142800003,21.048542857200005,20.372748148200007,20.638548148200005,20.971244444600007,23.093385187000003,23.483333333800005,23.82100317480001,24.633192592800004,24.030800000000003,23.997214814800003,23.830000000000005,24.260114285600004,23.868200000000005,24.42654814820001,38.71028571440001,25.63874814820001,136.29045999999985,133.61994999999987,151.07622676799988,158.4916390719999,165.46353535599988,164.8302497739999,168.45721817999987,166.99744375999998,170.27254337379992,114.23159120599989,118.25169556399987,115.2949690619999,116.866403468,119.54824614999988,121.99281025399989,121.88208810799988,122.49153845999986,55.44839999999995,55.346399999999946,56.709999999999944,56.43999999999995,56.29999999999995,57.44659999999995,57.49499999999995,55.17999999999994,54.788399999999946,51.81999999999996,50.42134285719996,51.81999999999996,51.38134285719996,102.2391999999999,105.32933803919988,99.6777809525999,99.52445714319991,98.84158999979991,99.57747238059996,98.88346999999989,100.69317999999988,99.21505999999991,103.3212654539999,98.75672878659991,97.74922666660007,90.86414333340002,89.1679142855999,89.24662857139988,89.04662857139989,90.06319999999988,90.7775942853999,91.1100857139999,91.1100857139999,91.23239220739988,89.18999999999988,88.88675999999988,87.22587999999989,83.59055501519991,81.2466285713999,86.51802532519989,80.50171428559992,82.7964571427999,82.99548571340002,59.900000000000055,59.900000000000055,59.900000000000055,59.712903225800055,53.807073340600034,55.46732583979999,49.96785253460004,50.533306453600005,53.762046083000044,53.82914285720005,53.17364775859999,49.90060000000004,49.980800000000045,49.90100000000004,145.03999999999996,124.68399999999993,93.35648879720002,81.82713500520006,86.73272318840002,86.9755550726,90.05404285799999,79.19701904780005,59.80200000000005,59.900000000000055,59.900000000000055,59.900000000000055,59.900000000000055,59.540000000000056,55.62620297199998,55.85005555600002,50.17230075200005,50.78435253500003,53.82000000000004,53.82000000000004,53.38188425720002,49.90020000000004,49.90020000000004,49.90040000000003,149.32284921200002,148.06195544399992,150.5047870159999,153.02379999999985,140.2499072419999,152.71262580599986,150.7254692299999,140.69067272799987,66.71891428599994,65.68391428599993,64.78999999999992,64.76999999999992,66.78819999999992,66.70999999999992,66.3970428571999,59.900000000000055,59.48680000000006,59.900000000000055,59.900000000000055,59.900000000000055,59.900000000000055,52.77616332460003,55.79601490779997,49.708866666600045,50.68869815680001,54.082500000000046,54.22376395560005,53.25879564200003,50.60266666660002,49.98620000000002,49.96900000000001,50.99582029379997,52.18880079679998,54.69955466820001,52.60691041339997,53.03502797940002,54.01361647100002,52.03159982320001,157.5681745459999,166.68275480600005,165.9446114279999,155.13720856999987,150.38824000000002,139.49147446000006,150.09269844199997,144.55855171999997,141.7609588719999,129.320114308,123.36852304399991,129.00645238199996,139.14532207799994,134.5080419619999,140.719933334,84.9899999999999,84.9899999999999,89.5947999999999,84.1581999999999,85.08999999999989,84.9899999999999,84.9899999999999,84.9899999999999,86.9301999999999,186.7321999999999,186.1099999999999,181.92351999999985,182.12279999999984,180.06545774399987,181.7412495179999,184.57827399000004,179.122764838,171.00619954599998,175.31291456199997,177.587226548,156.598066188,149.82226385599998,147.95657203,59.48680000000006,59.62100000000005,59.48680000000006,59.900000000000055,59.900000000000055,59.900000000000055,59.900000000000055,53.375614843600026,55.68078852919998,50.08060322580003,50.934338897200035,54.06403333340004,53.78020000000004,52.69521132639998,49.98060000000004,49.98060000000004,49.90300000000003,159.49566481600002,160.19374028800013,156.10977380600008,149.71459382600008,138.82970409399996,135.461342888,147.820944156,122.76414210999992,124.87326688000006,108.74066437599993,108.82991746600003,127.92040935799997,120.45767948800003,122.55844248399998,37.66000000000001,33.672000000000004,36.52,36.834,42.4401904762,55.04600000000001,60.00266666600001,143.512579222,140.96894285599998,141.156068398,127.46981818200005,125.465801038,119.17795223999993,118.37126984799997,123.56168888999993,131.629289324,122.15230944399993,118.98809017399992,121.1306549799999,118.92240887999998,130.58270649399986,128.22874999999985,128.22069999999985,128.92694999999986,129.16749999999985,121.25249999999986,121.82634999999986,128.32874999999984,125.61459999999987,128.02589999999987,126.24159230759987,129.92656363599986,123.57971666659986,96.08,98.85084285719999,107.97999999999996,106.71199999999997,100.942,107.07520649319997,102.76399999999998,111.53399999999996,90.16993097040002,85.23938901800005,86.9919265012,89.12217474959999,77.78929792980001,77.311716358,87.27733602520004,23.0797047618,19.964933333599987,20.32732380979999,21.36664762060001,23.656519577000005,23.6481904764,28.432476188200003,31.847809523400006,31.366285712800018,32.526000000000025,349.89999999999986,349.89999999999986,350.1819999999999,335.22316256619985,350.1819999999999,349.4019999999999,350.7459999999999,351.30999999999983,350.18199999999985,350.5387272719999,332.942836344,348.0269090879998,351.1777272719999,350.68572727199995,351.7504545439999,350.7459999999999,353.80972727200003,358.603727272,360.62472727200003,360.099,229.7678363599998,230.5162753219998,216.73850215999988,195.75367371200008,169.37602629,163.5835988119999,158.21094306999993,162.2589284800001,158.18139947599994,172.10411165199994,98.55925333319999,100.62586666659998,100.17835974039997,99.40177619059999,99.55810095179999,98.5258228574,99.43434666659998,96.82427142880005,84.94010714560008,90.23516190140006,223.80227532199984,219.82694945,213.35713809519984,203.32695859800006,213.17430445999995,213.20997186120022,208.13835650199997,200.93273997600002,195.85646013000004,186.807629704,64.75353333339991,64.98999999999992,65.44173333339992,65.48999999999992,63.76024761919994,60.59635990060002,59.60192381179999,59.38215989979995,60.17883609019994,61.35164285739993,59.419036363599936,59.09787272779994,60.801733333399945,61.45250952399994,59.109999999999935,59.109999999999935,58.80619047619994,58.98999999999994,58.80619047619994,58.80619047619994,98.0283,97.6762923076,97.7241647058,95.24735000000005,91.3985944444,90.78880000000001,90.42178571420001,87.52664615319995,87.08410000000002,81.99799999960005,85.58040000000003,110.4430666667999,97.1522789915999,104.7081166682,110.79039999999986,113.29993333339988,116.58653333339997,106.3646,95.93152,91.91581212059988,94.2552799999999,120.32879577199996,114.68582581659999,111.030212098,109.0350980358,109.84626666599999,98.70994666779998,102.72393333199987,101.68326666659986,87.5589313724,88.82733333320002,89.80736666660003,89.90000000000002,89.90000000000002,90.00470000000003,89.90000000000002,90.19082352900001,91.5637921564,90.50351402680003,90.0884705856,86.56781904740002,86.31260170180002,86.45611904720005,86.33426666660006,85.71334615079996,82.03565897420005,78.90981904500006,77.90129230740001,41.330551261600014,40.89994285800003,41.72952773200002,35.41725714219999,41.205169748800024,39.46980806780004,43.69577142960003,35.97142857400002,35.446857143200006,36.326564706000006,41.773030952400006,41.30618095240001,106.5598,105.490657142,108.75885714200001,106.753357142,105.56571426,101.8381686266,103.32848571240001,105.29142856800001,105.26999999399999,105.0784666666,77.4592,77.9796,77.9796,82.4977904762,78.23265714280001,80.0090857142,77.75562857139998,78.27245714280001,78.0,77.49699999999999,77.8778,77.9456571428,78.0742285714,79.50369319619999,78.38674285640002,76.6936,76.21579999860002,75.78333333200001,74.15476562500001,76.058373208,71.63334921999999,69.90639191700004,71.69975654200006,67.95020957240006,68.43308709320004,92.47984999400002,95.48779999199998,98.06968483,59.900000000000055,60.70180000000005,59.900000000000055,59.900000000000055,59.900000000000055,59.32200000000005,59.900000000000055,55.7857709328,52.07822222280003,50.99266666640005,51.250761903000004,53.96200000000005,53.882000000000055,50.72596491260003,49.90020000000004,49.90020000000004,49.90040000000005,38.301085714200035,38.13417142840003,39.589771428400034,37.72348571360003,36.54620840040004,39.11331428580004,55.013133335200045,36.69371428880002,35.69234285740001,35.61200000000001,36.543800000000005,37.01980000000001,36.1923142858,325.6,321.4895,325.0,317.71005290600004,320.6,323.771571426,308.52910408199995,311.9833629619999,320.712354034,316.674585286,323.089857142,329.68,322.609687012,106.85666666679988,100.0125833333999,109.08337333319987,107.6291999999999,117.61733333339998,114.16899999979998,103.2907733332,97.50575333399996,96.1427999999999,95.14682307599989,124.59363756199997,118.08754969599998,109.887278782,108.97959999999999,110.21366666659998,94.19080000019989,101.4756980389999,101.6574666644,88.96528571039997,99.8465999999999,99.78819999999989,98.94479999999989,102.38639999999988,102.58819999999989,100.11426666659989,100.05189523859988,101.12039999999988,99.98999999999987,99.98999999999987,97.08115578939989,98.24657694219988,94.78037142799991,92.82281904539995,155.01491274199986,157.07471274199986,143.60186512259986,155.00803193199988,131.0847366953999,145.9355462099999,149.88769579999985,147.580162384,143.6013058879999,140.8346722905999,151.24704038000013,141.05175798,133.52779100599994,128.09826062999994,129.17000377,119.25983622799995,118.95602430399987,123.58789580019992,337.846551304,340.28574666799994,330.11056927799984,329.43667565599986,342.7846979739998,328.8070443359998,318.34803879,296.08327877199986,284.68895910800023,274.7717788199997,273.7619196979998,217.58453755600007,162.97742860040006,142.9440690492,135.51872101020007,140.39932143200002,140.75930000000005,138.36074285799995,139.5149357159999,136.64199999999994,140.7528071462,121.54824753640001,30.983600000000024,32.06720000000003,29.90000000000002,29.90000000000002,29.90000000000002,30.30180000000002,29.90000000000002,29.90000000000002,30.30180000000002,29.90000000000002,29.90000000000002,225.54046136400004,235.57035999999997,189.54666107799991,190.6394636359999,186.54185425999987,167.77010127199992,209.96001818199989,174.72690985800003,190.82854666599994,186.661948052,178.763759786,159.48689337599987,159.61432579800007,140.274289582,146.44399859000004,158.15227166600005,151.65261708000006,118.33199999999995,102.88813333339996,92.74954582359999,81.98816541580003,84.4020700052,86.86682532659998,81.32670858120007,79.45914492780004,78.75526466180004,80.86284285720006,46.417622221600034,46.141911107999995,46.26508888880004,46.492533332800036,46.065088888800034,48.387088888800044,58.11899047600005,47.625088888800036,48.46400000000004,72.13098636400007,179.73003823399995,192.96258883399997,196.27356024199997,194.0613784880001,170.37908464199995],\"type\":\"scatter\"},{\"marker\":{\"color\":\"lightcoral\"},\"mode\":\"lines\",\"name\":\"Ideal Prediction\",\"x\":[19.9,364.0],\"y\":[19.9,364.0],\"type\":\"scatter\"}],                        {\"template\":{\"data\":{\"bar\":[{\"error_x\":{\"color\":\"#2a3f5f\"},\"error_y\":{\"color\":\"#2a3f5f\"},\"marker\":{\"line\":{\"color\":\"white\",\"width\":0.5},\"pattern\":{\"fillmode\":\"overlay\",\"size\":10,\"solidity\":0.2}},\"type\":\"bar\"}],\"barpolar\":[{\"marker\":{\"line\":{\"color\":\"white\",\"width\":0.5},\"pattern\":{\"fillmode\":\"overlay\",\"size\":10,\"solidity\":0.2}},\"type\":\"barpolar\"}],\"carpet\":[{\"aaxis\":{\"endlinecolor\":\"#2a3f5f\",\"gridcolor\":\"#C8D4E3\",\"linecolor\":\"#C8D4E3\",\"minorgridcolor\":\"#C8D4E3\",\"startlinecolor\":\"#2a3f5f\"},\"baxis\":{\"endlinecolor\":\"#2a3f5f\",\"gridcolor\":\"#C8D4E3\",\"linecolor\":\"#C8D4E3\",\"minorgridcolor\":\"#C8D4E3\",\"startlinecolor\":\"#2a3f5f\"},\"type\":\"carpet\"}],\"choropleth\":[{\"colorbar\":{\"outlinewidth\":0,\"ticks\":\"\"},\"type\":\"choropleth\"}],\"contour\":[{\"colorbar\":{\"outlinewidth\":0,\"ticks\":\"\"},\"colorscale\":[[0.0,\"#0d0887\"],[0.1111111111111111,\"#46039f\"],[0.2222222222222222,\"#7201a8\"],[0.3333333333333333,\"#9c179e\"],[0.4444444444444444,\"#bd3786\"],[0.5555555555555556,\"#d8576b\"],[0.6666666666666666,\"#ed7953\"],[0.7777777777777778,\"#fb9f3a\"],[0.8888888888888888,\"#fdca26\"],[1.0,\"#f0f921\"]],\"type\":\"contour\"}],\"contourcarpet\":[{\"colorbar\":{\"outlinewidth\":0,\"ticks\":\"\"},\"type\":\"contourcarpet\"}],\"heatmap\":[{\"colorbar\":{\"outlinewidth\":0,\"ticks\":\"\"},\"colorscale\":[[0.0,\"#0d0887\"],[0.1111111111111111,\"#46039f\"],[0.2222222222222222,\"#7201a8\"],[0.3333333333333333,\"#9c179e\"],[0.4444444444444444,\"#bd3786\"],[0.5555555555555556,\"#d8576b\"],[0.6666666666666666,\"#ed7953\"],[0.7777777777777778,\"#fb9f3a\"],[0.8888888888888888,\"#fdca26\"],[1.0,\"#f0f921\"]],\"type\":\"heatmap\"}],\"heatmapgl\":[{\"colorbar\":{\"outlinewidth\":0,\"ticks\":\"\"},\"colorscale\":[[0.0,\"#0d0887\"],[0.1111111111111111,\"#46039f\"],[0.2222222222222222,\"#7201a8\"],[0.3333333333333333,\"#9c179e\"],[0.4444444444444444,\"#bd3786\"],[0.5555555555555556,\"#d8576b\"],[0.6666666666666666,\"#ed7953\"],[0.7777777777777778,\"#fb9f3a\"],[0.8888888888888888,\"#fdca26\"],[1.0,\"#f0f921\"]],\"type\":\"heatmapgl\"}],\"histogram\":[{\"marker\":{\"pattern\":{\"fillmode\":\"overlay\",\"size\":10,\"solidity\":0.2}},\"type\":\"histogram\"}],\"histogram2d\":[{\"colorbar\":{\"outlinewidth\":0,\"ticks\":\"\"},\"colorscale\":[[0.0,\"#0d0887\"],[0.1111111111111111,\"#46039f\"],[0.2222222222222222,\"#7201a8\"],[0.3333333333333333,\"#9c179e\"],[0.4444444444444444,\"#bd3786\"],[0.5555555555555556,\"#d8576b\"],[0.6666666666666666,\"#ed7953\"],[0.7777777777777778,\"#fb9f3a\"],[0.8888888888888888,\"#fdca26\"],[1.0,\"#f0f921\"]],\"type\":\"histogram2d\"}],\"histogram2dcontour\":[{\"colorbar\":{\"outlinewidth\":0,\"ticks\":\"\"},\"colorscale\":[[0.0,\"#0d0887\"],[0.1111111111111111,\"#46039f\"],[0.2222222222222222,\"#7201a8\"],[0.3333333333333333,\"#9c179e\"],[0.4444444444444444,\"#bd3786\"],[0.5555555555555556,\"#d8576b\"],[0.6666666666666666,\"#ed7953\"],[0.7777777777777778,\"#fb9f3a\"],[0.8888888888888888,\"#fdca26\"],[1.0,\"#f0f921\"]],\"type\":\"histogram2dcontour\"}],\"mesh3d\":[{\"colorbar\":{\"outlinewidth\":0,\"ticks\":\"\"},\"type\":\"mesh3d\"}],\"parcoords\":[{\"line\":{\"colorbar\":{\"outlinewidth\":0,\"ticks\":\"\"}},\"type\":\"parcoords\"}],\"pie\":[{\"automargin\":true,\"type\":\"pie\"}],\"scatter\":[{\"marker\":{\"colorbar\":{\"outlinewidth\":0,\"ticks\":\"\"}},\"type\":\"scatter\"}],\"scatter3d\":[{\"line\":{\"colorbar\":{\"outlinewidth\":0,\"ticks\":\"\"}},\"marker\":{\"colorbar\":{\"outlinewidth\":0,\"ticks\":\"\"}},\"type\":\"scatter3d\"}],\"scattercarpet\":[{\"marker\":{\"colorbar\":{\"outlinewidth\":0,\"ticks\":\"\"}},\"type\":\"scattercarpet\"}],\"scattergeo\":[{\"marker\":{\"colorbar\":{\"outlinewidth\":0,\"ticks\":\"\"}},\"type\":\"scattergeo\"}],\"scattergl\":[{\"marker\":{\"colorbar\":{\"outlinewidth\":0,\"ticks\":\"\"}},\"type\":\"scattergl\"}],\"scattermapbox\":[{\"marker\":{\"colorbar\":{\"outlinewidth\":0,\"ticks\":\"\"}},\"type\":\"scattermapbox\"}],\"scatterpolar\":[{\"marker\":{\"colorbar\":{\"outlinewidth\":0,\"ticks\":\"\"}},\"type\":\"scatterpolar\"}],\"scatterpolargl\":[{\"marker\":{\"colorbar\":{\"outlinewidth\":0,\"ticks\":\"\"}},\"type\":\"scatterpolargl\"}],\"scatterternary\":[{\"marker\":{\"colorbar\":{\"outlinewidth\":0,\"ticks\":\"\"}},\"type\":\"scatterternary\"}],\"surface\":[{\"colorbar\":{\"outlinewidth\":0,\"ticks\":\"\"},\"colorscale\":[[0.0,\"#0d0887\"],[0.1111111111111111,\"#46039f\"],[0.2222222222222222,\"#7201a8\"],[0.3333333333333333,\"#9c179e\"],[0.4444444444444444,\"#bd3786\"],[0.5555555555555556,\"#d8576b\"],[0.6666666666666666,\"#ed7953\"],[0.7777777777777778,\"#fb9f3a\"],[0.8888888888888888,\"#fdca26\"],[1.0,\"#f0f921\"]],\"type\":\"surface\"}],\"table\":[{\"cells\":{\"fill\":{\"color\":\"#EBF0F8\"},\"line\":{\"color\":\"white\"}},\"header\":{\"fill\":{\"color\":\"#C8D4E3\"},\"line\":{\"color\":\"white\"}},\"type\":\"table\"}]},\"layout\":{\"annotationdefaults\":{\"arrowcolor\":\"#2a3f5f\",\"arrowhead\":0,\"arrowwidth\":1},\"autotypenumbers\":\"strict\",\"coloraxis\":{\"colorbar\":{\"outlinewidth\":0,\"ticks\":\"\"}},\"colorscale\":{\"diverging\":[[0,\"#8e0152\"],[0.1,\"#c51b7d\"],[0.2,\"#de77ae\"],[0.3,\"#f1b6da\"],[0.4,\"#fde0ef\"],[0.5,\"#f7f7f7\"],[0.6,\"#e6f5d0\"],[0.7,\"#b8e186\"],[0.8,\"#7fbc41\"],[0.9,\"#4d9221\"],[1,\"#276419\"]],\"sequential\":[[0.0,\"#0d0887\"],[0.1111111111111111,\"#46039f\"],[0.2222222222222222,\"#7201a8\"],[0.3333333333333333,\"#9c179e\"],[0.4444444444444444,\"#bd3786\"],[0.5555555555555556,\"#d8576b\"],[0.6666666666666666,\"#ed7953\"],[0.7777777777777778,\"#fb9f3a\"],[0.8888888888888888,\"#fdca26\"],[1.0,\"#f0f921\"]],\"sequentialminus\":[[0.0,\"#0d0887\"],[0.1111111111111111,\"#46039f\"],[0.2222222222222222,\"#7201a8\"],[0.3333333333333333,\"#9c179e\"],[0.4444444444444444,\"#bd3786\"],[0.5555555555555556,\"#d8576b\"],[0.6666666666666666,\"#ed7953\"],[0.7777777777777778,\"#fb9f3a\"],[0.8888888888888888,\"#fdca26\"],[1.0,\"#f0f921\"]]},\"colorway\":[\"#636efa\",\"#EF553B\",\"#00cc96\",\"#ab63fa\",\"#FFA15A\",\"#19d3f3\",\"#FF6692\",\"#B6E880\",\"#FF97FF\",\"#FECB52\"],\"font\":{\"color\":\"#2a3f5f\"},\"geo\":{\"bgcolor\":\"white\",\"lakecolor\":\"white\",\"landcolor\":\"white\",\"showlakes\":true,\"showland\":true,\"subunitcolor\":\"#C8D4E3\"},\"hoverlabel\":{\"align\":\"left\"},\"hovermode\":\"closest\",\"mapbox\":{\"style\":\"light\"},\"paper_bgcolor\":\"white\",\"plot_bgcolor\":\"white\",\"polar\":{\"angularaxis\":{\"gridcolor\":\"#EBF0F8\",\"linecolor\":\"#EBF0F8\",\"ticks\":\"\"},\"bgcolor\":\"white\",\"radialaxis\":{\"gridcolor\":\"#EBF0F8\",\"linecolor\":\"#EBF0F8\",\"ticks\":\"\"}},\"scene\":{\"xaxis\":{\"backgroundcolor\":\"white\",\"gridcolor\":\"#DFE8F3\",\"gridwidth\":2,\"linecolor\":\"#EBF0F8\",\"showbackground\":true,\"ticks\":\"\",\"zerolinecolor\":\"#EBF0F8\"},\"yaxis\":{\"backgroundcolor\":\"white\",\"gridcolor\":\"#DFE8F3\",\"gridwidth\":2,\"linecolor\":\"#EBF0F8\",\"showbackground\":true,\"ticks\":\"\",\"zerolinecolor\":\"#EBF0F8\"},\"zaxis\":{\"backgroundcolor\":\"white\",\"gridcolor\":\"#DFE8F3\",\"gridwidth\":2,\"linecolor\":\"#EBF0F8\",\"showbackground\":true,\"ticks\":\"\",\"zerolinecolor\":\"#EBF0F8\"}},\"shapedefaults\":{\"line\":{\"color\":\"#2a3f5f\"}},\"ternary\":{\"aaxis\":{\"gridcolor\":\"#DFE8F3\",\"linecolor\":\"#A2B1C6\",\"ticks\":\"\"},\"baxis\":{\"gridcolor\":\"#DFE8F3\",\"linecolor\":\"#A2B1C6\",\"ticks\":\"\"},\"bgcolor\":\"white\",\"caxis\":{\"gridcolor\":\"#DFE8F3\",\"linecolor\":\"#A2B1C6\",\"ticks\":\"\"}},\"title\":{\"x\":0.05},\"xaxis\":{\"automargin\":true,\"gridcolor\":\"#EBF0F8\",\"linecolor\":\"#EBF0F8\",\"ticks\":\"\",\"title\":{\"standoff\":15},\"zerolinecolor\":\"#EBF0F8\",\"zerolinewidth\":2},\"yaxis\":{\"automargin\":true,\"gridcolor\":\"#EBF0F8\",\"linecolor\":\"#EBF0F8\",\"ticks\":\"\",\"title\":{\"standoff\":15},\"zerolinecolor\":\"#EBF0F8\",\"zerolinewidth\":2}}},\"title\":{\"text\":\"Predicted vs. Actual Retail Price\"},\"xaxis\":{\"title\":{\"text\":\"Actual Retail Price\"}},\"yaxis\":{\"title\":{\"text\":\"Predicted Retail Price\"}}},                        {\"responsive\": true}                    ).then(function(){\n",
       "                            \n",
       "var gd = document.getElementById('cae47392-bf40-4bb1-9725-035114e17305');\n",
       "var x = new MutationObserver(function (mutations, observer) {{\n",
       "        var display = window.getComputedStyle(gd).display;\n",
       "        if (!display || display === 'none') {{\n",
       "            console.log([gd, 'removed!']);\n",
       "            Plotly.purge(gd);\n",
       "            observer.disconnect();\n",
       "        }}\n",
       "}});\n",
       "\n",
       "// Listen for the removal of the full notebook cells\n",
       "var notebookContainer = gd.closest('#notebook-container');\n",
       "if (notebookContainer) {{\n",
       "    x.observe(notebookContainer, {childList: true});\n",
       "}}\n",
       "\n",
       "// Listen for the clearing of the current output cell\n",
       "var outputEl = gd.closest('.output');\n",
       "if (outputEl) {{\n",
       "    x.observe(outputEl, {childList: true});\n",
       "}}\n",
       "\n",
       "                        })                };                });            </script>        </div>"
      ]
     },
     "metadata": {},
     "output_type": "display_data"
    }
   ],
   "source": [
    "import plotly.graph_objects as go\n",
    "\n",
    "# Instantiate and train the RandomForestRegressor model\n",
    "model = RandomForestRegressor(n_estimators=50, random_state=40)\n",
    "model.fit(X, y)\n",
    "\n",
    "# Make predictions on the same data used for training (you should ideally use a separate test dataset)\n",
    "y_pred = model.predict(X)\n",
    "\n",
    "# Create a scatter plot to visualize predicted vs. actual retail unit price\n",
    "fig = go.Figure()\n",
    "\n",
    "# Add a scatter plot for actual vs. predicted values with indigo markers\n",
    "fig.add_trace(go.Scatter(x=y, y=y_pred, mode='markers', \n",
    "                         marker=dict(color='indigo'),\n",
    "                         name='Predicted vs. Actual Retail Unit Price'))\n",
    "\n",
    "# Add a diagonal line for ideal prediction with deep pink color\n",
    "fig.add_trace(go.Scatter(x=[min(y), max(y)], y=[min(y), max(y)], \n",
    "                         mode='lines', \n",
    "                         marker=dict(color='lightcoral'),\n",
    "                         name='Ideal Prediction'))\n",
    "\n",
    "# Customize the layout of the plot\n",
    "fig.update_layout(\n",
    "    title='Predicted vs. Actual Retail Price',\n",
    "    xaxis_title='Actual Retail Price',\n",
    "    yaxis_title='Predicted Retail Price'\n",
    ")\n",
    "\n",
    "# Show the plot\n",
    "fig.show()\n"
   ]
  },
  {
   "cell_type": "code",
   "execution_count": 122,
   "id": "4c32aba7",
   "metadata": {},
   "outputs": [
    {
     "data": {
      "text/html": [
       "\n",
       "    <style>\n",
       "    table.eli5-weights tr:hover {\n",
       "        filter: brightness(85%);\n",
       "    }\n",
       "</style>\n",
       "\n",
       "\n",
       "\n",
       "    \n",
       "\n",
       "    \n",
       "\n",
       "    \n",
       "\n",
       "    \n",
       "\n",
       "    \n",
       "\n",
       "    \n",
       "\n",
       "\n",
       "    \n",
       "\n",
       "    \n",
       "\n",
       "    \n",
       "\n",
       "    \n",
       "\n",
       "    \n",
       "\n",
       "    \n",
       "\n",
       "\n",
       "    \n",
       "\n",
       "    \n",
       "\n",
       "    \n",
       "\n",
       "    \n",
       "\n",
       "    \n",
       "        <table class=\"eli5-weights eli5-feature-importances\" style=\"border-collapse: collapse; border: none; margin-top: 0em; table-layout: auto;\">\n",
       "    <thead>\n",
       "    <tr style=\"border: none;\">\n",
       "        <th style=\"padding: 0 1em 0 0.5em; text-align: right; border: none;\">Weight</th>\n",
       "        <th style=\"padding: 0 0.5em 0 0.5em; text-align: left; border: none;\">Feature</th>\n",
       "    </tr>\n",
       "    </thead>\n",
       "    <tbody>\n",
       "    \n",
       "        <tr style=\"background-color: hsl(120, 100.00%, 80.00%); border: none;\">\n",
       "            <td style=\"padding: 0 1em 0 0.5em; text-align: right; border: none;\">\n",
       "                1.2518\n",
       "                \n",
       "                    &plusmn; 0.0841\n",
       "                \n",
       "            </td>\n",
       "            <td style=\"padding: 0 0.5em 0 0.5em; text-align: left; border: none;\">\n",
       "                product_weight_g\n",
       "            </td>\n",
       "        </tr>\n",
       "    \n",
       "        <tr style=\"background-color: hsl(120, 100.00%, 91.47%); border: none;\">\n",
       "            <td style=\"padding: 0 1em 0 0.5em; text-align: right; border: none;\">\n",
       "                0.3705\n",
       "                \n",
       "                    &plusmn; 0.0310\n",
       "                \n",
       "            </td>\n",
       "            <td style=\"padding: 0 0.5em 0 0.5em; text-align: left; border: none;\">\n",
       "                product_photos_qty\n",
       "            </td>\n",
       "        </tr>\n",
       "    \n",
       "        <tr style=\"background-color: hsl(120, 100.00%, 96.48%); border: none;\">\n",
       "            <td style=\"padding: 0 1em 0 0.5em; text-align: right; border: none;\">\n",
       "                0.1044\n",
       "                \n",
       "                    &plusmn; 0.0135\n",
       "                \n",
       "            </td>\n",
       "            <td style=\"padding: 0 0.5em 0 0.5em; text-align: left; border: none;\">\n",
       "                product_score\n",
       "            </td>\n",
       "        </tr>\n",
       "    \n",
       "        <tr style=\"background-color: hsl(120, 100.00%, 97.13%); border: none;\">\n",
       "            <td style=\"padding: 0 1em 0 0.5em; text-align: right; border: none;\">\n",
       "                0.0783\n",
       "                \n",
       "                    &plusmn; 0.0133\n",
       "                \n",
       "            </td>\n",
       "            <td style=\"padding: 0 0.5em 0 0.5em; text-align: left; border: none;\">\n",
       "                freight_price\n",
       "            </td>\n",
       "        </tr>\n",
       "    \n",
       "        <tr style=\"background-color: hsl(120, 100.00%, 99.10%); border: none;\">\n",
       "            <td style=\"padding: 0 1em 0 0.5em; text-align: right; border: none;\">\n",
       "                0.0148\n",
       "                \n",
       "                    &plusmn; 0.0032\n",
       "                \n",
       "            </td>\n",
       "            <td style=\"padding: 0 0.5em 0 0.5em; text-align: left; border: none;\">\n",
       "                customers\n",
       "            </td>\n",
       "        </tr>\n",
       "    \n",
       "        <tr style=\"background-color: hsl(120, 100.00%, 99.50%); border: none;\">\n",
       "            <td style=\"padding: 0 1em 0 0.5em; text-align: right; border: none;\">\n",
       "                0.0064\n",
       "                \n",
       "                    &plusmn; 0.0017\n",
       "                \n",
       "            </td>\n",
       "            <td style=\"padding: 0 0.5em 0 0.5em; text-align: left; border: none;\">\n",
       "                year\n",
       "            </td>\n",
       "        </tr>\n",
       "    \n",
       "        <tr style=\"background-color: hsl(120, 100.00%, 99.50%); border: none;\">\n",
       "            <td style=\"padding: 0 1em 0 0.5em; text-align: right; border: none;\">\n",
       "                0.0064\n",
       "                \n",
       "                    &plusmn; 0.0018\n",
       "                \n",
       "            </td>\n",
       "            <td style=\"padding: 0 0.5em 0 0.5em; text-align: left; border: none;\">\n",
       "                revenue\n",
       "            </td>\n",
       "        </tr>\n",
       "    \n",
       "        <tr style=\"background-color: hsl(120, 100.00%, 99.72%); border: none;\">\n",
       "            <td style=\"padding: 0 1em 0 0.5em; text-align: right; border: none;\">\n",
       "                0.0028\n",
       "                \n",
       "                    &plusmn; 0.0003\n",
       "                \n",
       "            </td>\n",
       "            <td style=\"padding: 0 0.5em 0 0.5em; text-align: left; border: none;\">\n",
       "                month\n",
       "            </td>\n",
       "        </tr>\n",
       "    \n",
       "        <tr style=\"background-color: hsl(120, 100.00%, 99.82%); border: none;\">\n",
       "            <td style=\"padding: 0 1em 0 0.5em; text-align: right; border: none;\">\n",
       "                0.0015\n",
       "                \n",
       "                    &plusmn; 0.0006\n",
       "                \n",
       "            </td>\n",
       "            <td style=\"padding: 0 0.5em 0 0.5em; text-align: left; border: none;\">\n",
       "                holiday\n",
       "            </td>\n",
       "        </tr>\n",
       "    \n",
       "        <tr style=\"background-color: hsl(120, 100.00%, 99.94%); border: none;\">\n",
       "            <td style=\"padding: 0 1em 0 0.5em; text-align: right; border: none;\">\n",
       "                0.0003\n",
       "                \n",
       "                    &plusmn; 0.0001\n",
       "                \n",
       "            </td>\n",
       "            <td style=\"padding: 0 0.5em 0 0.5em; text-align: left; border: none;\">\n",
       "                weekday\n",
       "            </td>\n",
       "        </tr>\n",
       "    \n",
       "        <tr style=\"background-color: hsl(120, 100.00%, 99.95%); border: none;\">\n",
       "            <td style=\"padding: 0 1em 0 0.5em; text-align: right; border: none;\">\n",
       "                0.0003\n",
       "                \n",
       "                    &plusmn; 0.0001\n",
       "                \n",
       "            </td>\n",
       "            <td style=\"padding: 0 0.5em 0 0.5em; text-align: left; border: none;\">\n",
       "                weekend\n",
       "            </td>\n",
       "        </tr>\n",
       "    \n",
       "    \n",
       "    </tbody>\n",
       "</table>\n",
       "    \n",
       "\n",
       "    \n",
       "\n",
       "\n",
       "    \n",
       "\n",
       "    \n",
       "\n",
       "    \n",
       "\n",
       "    \n",
       "\n",
       "    \n",
       "\n",
       "    \n",
       "\n",
       "\n",
       "\n"
      ],
      "text/plain": [
       "<IPython.core.display.HTML object>"
      ]
     },
     "execution_count": 122,
     "metadata": {},
     "output_type": "execute_result"
    }
   ],
   "source": [
    "import shap\n",
    "import eli5\n",
    "from eli5.sklearn import PermutationImportance\n",
    "\n",
    "# Fit Permutation Importance to the model\n",
    "perm = PermutationImportance(model, random_state=1).fit(X, y)\n",
    "\n",
    "# Display feature importances\n",
    "sns.set_palette(\"rocket\")\n",
    "eli5.show_weights(perm, feature_names=X.columns.tolist())"
   ]
  },
  {
   "cell_type": "code",
   "execution_count": 139,
   "id": "ac4cdf60",
   "metadata": {},
   "outputs": [
    {
     "name": "stdout",
     "output_type": "stream",
     "text": [
      "Preview of Random Rows with 'unit_price', 'unit_price_pred', and 'error' columns:\n",
      "     unit_price  unit_price_pred         error\n",
      "657   79.800000        81.326709  1.526709e+00\n",
      "218  149.000000       150.092698  1.092698e+00\n",
      "128   89.990000        88.886760  1.103240e+00\n",
      "505   89.900000        95.487800  5.587800e+00\n",
      "8     39.990000        39.900000  9.000000e-02\n",
      "527   38.400000        37.723486  6.765143e-01\n",
      "343  349.900000       350.182000  2.820000e-01\n",
      "340  349.900000       349.900000  1.136868e-13\n",
      "273  149.000000       147.820944  1.179056e+00\n",
      "662   44.154444        46.141911  1.987467e+00\n",
      "╒══════════════╤═══════════════════╤═════════════╕\n",
      "│   unit_price │   unit_price_pred │       error │\n",
      "╞══════════════╪═══════════════════╪═════════════╡\n",
      "│      79.8    │           81.3267 │ 1.52671     │\n",
      "├──────────────┼───────────────────┼─────────────┤\n",
      "│     149      │          150.093  │ 1.0927      │\n",
      "├──────────────┼───────────────────┼─────────────┤\n",
      "│      89.99   │           88.8868 │ 1.10324     │\n",
      "├──────────────┼───────────────────┼─────────────┤\n",
      "│      89.9    │           95.4878 │ 5.5878      │\n",
      "├──────────────┼───────────────────┼─────────────┤\n",
      "│      39.99   │           39.9    │ 0.09        │\n",
      "├──────────────┼───────────────────┼─────────────┤\n",
      "│      38.4    │           37.7235 │ 0.676514    │\n",
      "├──────────────┼───────────────────┼─────────────┤\n",
      "│     349.9    │          350.182  │ 0.282       │\n",
      "├──────────────┼───────────────────┼─────────────┤\n",
      "│     349.9    │          349.9    │ 1.13687e-13 │\n",
      "├──────────────┼───────────────────┼─────────────┤\n",
      "│     149      │          147.821  │ 1.17906     │\n",
      "├──────────────┼───────────────────┼─────────────┤\n",
      "│      44.1544 │           46.1419 │ 1.98747     │\n",
      "╘══════════════╧═══════════════════╧═════════════╛\n"
     ]
    }
   ],
   "source": [
    "# Add predicted unit prices and errors to the 'df' DataFrame\n",
    "from tabulate import tabulate\n",
    "df['unit_price_pred'] = y_pred\n",
    "df['error'] = abs(df['unit_price'] - df['unit_price_pred'])\n",
    "\n",
    "preview_df = df[['unit_price', 'unit_price_pred', 'error']].sample(n=10)# Change 'n' to the number of rows you want to display10\n",
    "print(\"Preview of Random Rows with 'unit_price', 'unit_price_pred', and 'error' columns:\")\n",
    "print(preview_df)\n",
    "\n",
    "print(tabulate(preview_df, headers='keys', tablefmt='fancy_grid', showindex=False))\n",
    "\n",
    "# Find the largest and smallest prediction errors\n",
    "largest_error = df[df['error'] == max(df['error'])]\n",
    "smallest_error = df[df['error'] == min(df['error'])]"
   ]
  },
  {
   "cell_type": "markdown",
   "id": "f47dc00c",
   "metadata": {},
   "source": [
    "# Interpret the largest prediction error\n",
    "data_for_prediction = largest_error.drop(['unit_price', 'unit_price_pred', 'error'], axis=1)\n",
    "print(\"-------------------- LARGEST ERROR PREDICTION --------------------\\n\\n\")\n",
    "explainer = shap.TreeExplainer(model)\n",
    "shap_values = explainer.shap_values(data_for_prediction)\n",
    "shap.initjs()\n",
    "shap.force_plot(explainer.expected_value[0], shap_values[0], data_for_prediction)\n"
   ]
  },
  {
   "cell_type": "markdown",
   "id": "afe15c16",
   "metadata": {},
   "source": [
    "#Interpret the smallest prediction error\n",
    "data_for_prediction = smallest_error.drop(['unit_price', 'unit_price_pred', 'error'], axis=1)\n",
    "print(\"-------------------- SMALLEST ERROR PREDICTION --------------------\\n\\n\")\n",
    "explainer = shap.TreeExplainer(model)\n",
    "shap_values = explainer.shap_values(data_for_prediction)\n",
    "shap.initjs()\n",
    "shap.force_plot(explainer.expected_value[0], shap_values[0], data_for_prediction)\n"
   ]
  },
  {
   "cell_type": "code",
   "execution_count": 130,
   "id": "f2a49ba2",
   "metadata": {},
   "outputs": [
    {
     "data": {
      "image/png": "[encoded data removed]",
      "text/plain": [
       "<Figure size 576x424.8 with 2 Axes>"
      ]
     },
     "metadata": {
      "needs_background": "light"
     },
     "output_type": "display_data"
    }
   ],
   "source": [
    "# Overall feature importance summary plot\n",
    "explainer = shap.TreeExplainer(model)\n",
    "shap_values = explainer.shap_values(X)\n",
    "shap.summary_plot(shap_values, X)"
   ]
  },
  {
   "cell_type": "code",
   "execution_count": null,
   "id": "ddf94ba1",
   "metadata": {},
   "outputs": [],
   "source": []
  }
 ],
 "metadata": {
  "kernelspec": {
   "display_name": "Python 3 (ipykernel)",
   "language": "python",
   "name": "python3"
  },
  "language_info": {
   "codemirror_mode": {
    "name": "ipython",
    "version": 3
   },
   "file_extension": ".py",
   "mimetype": "text/x-python",
   "name": "python",
   "nbconvert_exporter": "python",
   "pygments_lexer": "ipython3",
   "version": "3.9.12"
  }
 },
 "nbformat": 4,
 "nbformat_minor": 5
}
